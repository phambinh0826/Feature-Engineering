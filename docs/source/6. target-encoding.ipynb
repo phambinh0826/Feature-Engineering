{
 "cells": [
  {
   "cell_type": "markdown",
   "id": "7edc7770",
   "metadata": {
    "papermill": {
     "duration": 0.00469,
     "end_time": "2023-04-20T18:11:16.420417",
     "exception": false,
     "start_time": "2023-04-20T18:11:16.415727",
     "status": "completed"
    },
    "tags": []
   },
   "source": [
    "# Giới thiệu #\n",
    "\n",
    "Hầu hết các kỹ thuật mà chúng ta đã học trong khóa này đều áp dụng cho các đặc trưng số. Tuy nhiên, kỹ thuật mà chúng ta sẽ tìm hiểu trong bài học này, *target encoding*, lại được thiết kế dành cho các đặc trưng phân loại. Đây là một phương pháp mã hóa các danh mục thành số, tương tự như one-hot encoding hoặc label encoding, nhưng điểm khác biệt là nó sử dụng *mục tiêu* để tạo ra mã hóa. Điều này khiến target encoding trở thành một kỹ thuật **học có giám sát** (*supervised feature engineering*)."
   ]
  },
  {
   "cell_type": "code",
   "execution_count": 6,
   "id": "cdcc1258",
   "metadata": {
    "_kg_hide-input": true,
    "execution": {
     "iopub.execute_input": "2023-04-20T18:11:16.432178Z",
     "iopub.status.busy": "2023-04-20T18:11:16.431151Z",
     "iopub.status.idle": "2023-04-20T18:11:16.467037Z",
     "shell.execute_reply": "2023-04-20T18:11:16.465533Z"
    },
    "papermill": {
     "duration": 0.046242,
     "end_time": "2023-04-20T18:11:16.470595",
     "exception": false,
     "start_time": "2023-04-20T18:11:16.424353",
     "status": "completed"
    },
    "tags": []
   },
   "outputs": [],
   "source": [
    "import pandas as pd\n",
    "\n",
    "autos = pd.read_csv(\"autos.csv\")"
   ]
  },
  {
   "cell_type": "markdown",
   "id": "77b3eec9",
   "metadata": {
    "lines_to_next_cell": 0,
    "papermill": {
     "duration": 0.00343,
     "end_time": "2023-04-20T18:11:16.478019",
     "exception": false,
     "start_time": "2023-04-20T18:11:16.474589",
     "status": "completed"
    },
    "tags": []
   },
   "source": [
    "# Mã hóa theo mục tiêu (Target Encoding) #\n",
    "\n",
    "**Target encoding** là bất kỳ phương pháp mã hóa nào thay thế các danh mục của một đặc trưng bằng một giá trị số được tính toán từ mục tiêu.\n",
    "\n",
    "Một phiên bản đơn giản và hiệu quả là áp dụng một phép tổng hợp theo nhóm từ Bài 3, chẳng hạn như giá trị trung bình. Khi sử dụng tập dữ liệu *Automobiles*, phương pháp này sẽ tính giá trung bình của từng hãng xe như sau:"
   ]
  },
  {
   "cell_type": "code",
   "execution_count": 7,
   "id": "a54df105",
   "metadata": {
    "execution": {
     "iopub.execute_input": "2023-04-20T18:11:16.488099Z",
     "iopub.status.busy": "2023-04-20T18:11:16.487063Z",
     "iopub.status.idle": "2023-04-20T18:11:16.527690Z",
     "shell.execute_reply": "2023-04-20T18:11:16.525791Z"
    },
    "papermill": {
     "duration": 0.049719,
     "end_time": "2023-04-20T18:11:16.531547",
     "exception": false,
     "start_time": "2023-04-20T18:11:16.481828",
     "status": "completed"
    },
    "tags": []
   },
   "outputs": [
    {
     "data": {
      "text/html": [
       "<div>\n",
       "<style scoped>\n",
       "    .dataframe tbody tr th:only-of-type {\n",
       "        vertical-align: middle;\n",
       "    }\n",
       "\n",
       "    .dataframe tbody tr th {\n",
       "        vertical-align: top;\n",
       "    }\n",
       "\n",
       "    .dataframe thead th {\n",
       "        text-align: right;\n",
       "    }\n",
       "</style>\n",
       "<table border=\"1\" class=\"dataframe\">\n",
       "  <thead>\n",
       "    <tr style=\"text-align: right;\">\n",
       "      <th></th>\n",
       "      <th>make</th>\n",
       "      <th>price</th>\n",
       "      <th>make_encoded</th>\n",
       "    </tr>\n",
       "  </thead>\n",
       "  <tbody>\n",
       "    <tr>\n",
       "      <th>0</th>\n",
       "      <td>alfa-romero</td>\n",
       "      <td>13495</td>\n",
       "      <td>15498.333333</td>\n",
       "    </tr>\n",
       "    <tr>\n",
       "      <th>1</th>\n",
       "      <td>alfa-romero</td>\n",
       "      <td>16500</td>\n",
       "      <td>15498.333333</td>\n",
       "    </tr>\n",
       "    <tr>\n",
       "      <th>2</th>\n",
       "      <td>alfa-romero</td>\n",
       "      <td>16500</td>\n",
       "      <td>15498.333333</td>\n",
       "    </tr>\n",
       "    <tr>\n",
       "      <th>3</th>\n",
       "      <td>audi</td>\n",
       "      <td>13950</td>\n",
       "      <td>17859.166667</td>\n",
       "    </tr>\n",
       "    <tr>\n",
       "      <th>4</th>\n",
       "      <td>audi</td>\n",
       "      <td>17450</td>\n",
       "      <td>17859.166667</td>\n",
       "    </tr>\n",
       "    <tr>\n",
       "      <th>5</th>\n",
       "      <td>audi</td>\n",
       "      <td>15250</td>\n",
       "      <td>17859.166667</td>\n",
       "    </tr>\n",
       "    <tr>\n",
       "      <th>6</th>\n",
       "      <td>audi</td>\n",
       "      <td>17710</td>\n",
       "      <td>17859.166667</td>\n",
       "    </tr>\n",
       "    <tr>\n",
       "      <th>7</th>\n",
       "      <td>audi</td>\n",
       "      <td>18920</td>\n",
       "      <td>17859.166667</td>\n",
       "    </tr>\n",
       "    <tr>\n",
       "      <th>8</th>\n",
       "      <td>audi</td>\n",
       "      <td>23875</td>\n",
       "      <td>17859.166667</td>\n",
       "    </tr>\n",
       "    <tr>\n",
       "      <th>9</th>\n",
       "      <td>bmw</td>\n",
       "      <td>16430</td>\n",
       "      <td>26118.750000</td>\n",
       "    </tr>\n",
       "  </tbody>\n",
       "</table>\n",
       "</div>"
      ],
      "text/plain": [
       "          make  price  make_encoded\n",
       "0  alfa-romero  13495  15498.333333\n",
       "1  alfa-romero  16500  15498.333333\n",
       "2  alfa-romero  16500  15498.333333\n",
       "3         audi  13950  17859.166667\n",
       "4         audi  17450  17859.166667\n",
       "5         audi  15250  17859.166667\n",
       "6         audi  17710  17859.166667\n",
       "7         audi  18920  17859.166667\n",
       "8         audi  23875  17859.166667\n",
       "9          bmw  16430  26118.750000"
      ]
     },
     "execution_count": 7,
     "metadata": {},
     "output_type": "execute_result"
    }
   ],
   "source": [
    "autos[\"make_encoded\"] = autos.groupby(\"make\")[\"price\"].transform(\"mean\")\n",
    "\n",
    "autos[[\"make\", \"price\", \"make_encoded\"]].head(10)"
   ]
  },
  {
   "cell_type": "markdown",
   "id": "77ee04f9",
   "metadata": {
    "papermill": {
     "duration": 0.003628,
     "end_time": "2023-04-20T18:11:16.539305",
     "exception": false,
     "start_time": "2023-04-20T18:11:16.535677",
     "status": "completed"
    },
    "tags": []
   },
   "source": [
    "Loại mã hóa theo mục tiêu này đôi khi được gọi là **mean encoding** (mã hóa theo trung bình). Khi áp dụng cho một mục tiêu nhị phân, nó cũng được gọi là **bin counting** (đếm tần suất). (Một số tên gọi khác mà bạn có thể gặp bao gồm: likelihood encoding, impact encoding, và leave-one-out encoding.)\n",
    "\n",
    "# Làm mượt (Smoothing) #\n",
    "\n",
    "Tuy nhiên, kiểu mã hóa này có thể gặp một số vấn đề.\n",
    "\n",
    "## *Danh mục chưa biết* (Unknown Categories) ##\n",
    "Mã hóa theo mục tiêu có nguy cơ gây *overfitting* (quá khớp), do đó cần phải được huấn luyện trên một tập dữ liệu độc lập gọi là \"encoding split\". Khi bạn áp dụng mã hóa này vào các tập dữ liệu khác, Pandas sẽ tự động điền giá trị thiếu nếu một danh mục không có mặt trong tập encoding. Những giá trị thiếu này cần được xử lý theo một cách nào đó.\n",
    "\n",
    "## *Danh mục hiếm* (Rare Categories) ##\n",
    "Khi một danh mục chỉ xuất hiện vài lần trong tập dữ liệu, các thống kê tính toán trên nhóm đó có thể không chính xác. Trong tập dữ liệu *Automobiles*, hãng xe `mercury` chỉ xuất hiện một lần. Do đó, giá trung bình mà chúng ta tính được thực chất chỉ là giá của một chiếc xe duy nhất, điều này có thể không đại diện chính xác cho giá của các xe Mercury khác mà chúng ta có thể gặp trong tương lai. Mã hóa theo mục tiêu đối với các danh mục hiếm có thể làm tăng nguy cơ *overfitting*.\n",
    "\n",
    "## Giải pháp: **Làm mượt (Smoothing)** ##\n",
    "Một cách để giải quyết vấn đề này là thêm **làm mượt** (*smoothing*). Ý tưởng là pha trộn giá trị trung bình trong một danh mục với giá trị trung bình tổng thể. Các danh mục hiếm sẽ có trọng số thấp hơn đối với trung bình của riêng chúng, trong khi các danh mục chưa biết sẽ nhận giá trị trung bình tổng thể.\n",
    "\n",
    "Pseudocode cho phương pháp này:\n",
    "```python\n",
    "encoding = weight * in_category + (1 - weight) * overall\n",
    "```\n",
    "Ở đây, `weight` là một giá trị nằm trong khoảng từ 0 đến 1, được tính dựa trên tần suất xuất hiện của danh mục.\n",
    "\n",
    "Một cách đơn giản để xác định giá trị `weight` là sử dụng **ước lượng m** (*m-estimate*):\n",
    "```python\n",
    "weight = n / (n + m)\n",
    "```\n",
    "Trong đó, `n` là tổng số lần danh mục đó xuất hiện trong dữ liệu. Tham số `m` xác định \"hệ số làm mượt\" (*smoothing factor*). Giá trị `m` càng lớn thì trọng số đặt lên ước lượng tổng thể càng cao.\n",
    "\n",
    "<figure style=\"padding: 1em;\">\n",
    "<img src=\"../_static/images/1uVtQEz.png\" width=500, alt=\"\">\n",
    "<figcaption style=\"textalign: center; font-style: italic\"><center></center></figcaption>\n",
    "</figure>\n",
    "\n",
    "Trong tập dữ liệu *Automobiles*, có ba chiếc xe thuộc hãng `chevrolet`. Nếu bạn chọn `m=2.0`, thì danh mục `chevrolet` sẽ được mã hóa bằng 60% giá trung bình của Chevrolet cộng với 40% giá trung bình tổng thể.\n",
    "```python\n",
    "chevrolet = 0.6 * 6000.00 + 0.4 * 13285.03\n",
    "```\n",
    "Khi chọn giá trị cho `m`, hãy cân nhắc mức độ nhiễu mà bạn mong đợi trong các danh mục. Giá của một chiếc xe có biến động nhiều trong mỗi hãng không? Bạn có cần nhiều dữ liệu để có được ước lượng chính xác không? Nếu vậy, có thể tốt hơn khi chọn một giá trị `m` lớn hơn. Nếu giá trung bình của mỗi hãng xe khá ổn định, thì một giá trị `m` nhỏ có thể là đủ.\n",
    "\n",
    "<blockquote style=\"margin-right:auto; margin-left:auto; background-color: #ebf9ff; padding: 1em; margin:24px;\">\n",
    "<strong>Trường hợp sử dụng của Target Encoding</strong><br>\n",
    "Target encoding rất hữu ích trong các tình huống sau:\n",
    "<ul>\n",
    "<li><strong>Đặc trưng có nhiều danh mục (High-cardinality features)</strong>: Một đặc trưng có số lượng danh mục lớn có thể khó mã hóa. One-hot encoding sẽ tạo ra quá nhiều đặc trưng, trong khi label encoding có thể không phù hợp. Target encoding tạo ra giá trị số cho các danh mục bằng cách sử dụng đặc tính quan trọng nhất của chúng: mối quan hệ với mục tiêu.\n",
    "<li><strong>Đặc trưng có ý nghĩa từ kiến thức chuyên ngành (Domain-motivated features)</strong>: Dựa trên kinh nghiệm, bạn có thể nghi ngờ rằng một đặc trưng phân loại có thể quan trọng ngay cả khi nó có điểm thấp trong các tiêu chí đánh giá đặc trưng. Target encoding có thể giúp làm lộ ra mức độ quan trọng thực sự của đặc trưng đó.\n",
    "</ul>\n",
    "</blockquote>\n",
    "\n",
    "# Ví dụ - MovieLens1M #\n",
    "\n",
    "Tập dữ liệu [*MovieLens1M*](https://www.kaggle.com/grouplens/movielens-20m-dataset) chứa một triệu lượt đánh giá phim từ người dùng trên trang web MovieLens, với các đặc trưng mô tả từng người dùng và từng bộ phim. Cell ẩn dưới đây thiết lập mọi thứ:"
   ]
  },
  {
   "cell_type": "code",
   "execution_count": 8,
   "id": "570055c8",
   "metadata": {
    "_kg_hide-input": true,
    "execution": {
     "iopub.execute_input": "2023-04-20T18:11:16.549735Z",
     "iopub.status.busy": "2023-04-20T18:11:16.548996Z",
     "iopub.status.idle": "2023-04-20T18:11:21.953736Z",
     "shell.execute_reply": "2023-04-20T18:11:21.952391Z"
    },
    "papermill": {
     "duration": 5.413234,
     "end_time": "2023-04-20T18:11:21.956433",
     "exception": false,
     "start_time": "2023-04-20T18:11:16.543199",
     "status": "completed"
    },
    "tags": []
   },
   "outputs": [
    {
     "name": "stdout",
     "output_type": "stream",
     "text": [
      "Number of Unique Zipcodes: 3439\n"
     ]
    }
   ],
   "source": [
    "import matplotlib.pyplot as plt\n",
    "import numpy as np\n",
    "import pandas as pd\n",
    "import seaborn as sns\n",
    "import warnings\n",
    "\n",
    "plt.rc(\"figure\", autolayout=True)\n",
    "plt.rc(\n",
    "    \"axes\",\n",
    "    labelweight=\"bold\",\n",
    "    labelsize=\"large\",\n",
    "    titleweight=\"bold\",\n",
    "    titlesize=14,\n",
    "    titlepad=10,\n",
    ")\n",
    "warnings.filterwarnings('ignore')\n",
    "\n",
    "\n",
    "df = pd.read_csv(\"movielens1m.csv\")\n",
    "df = df.astype(np.uint8, errors='ignore') # reduce memory footprint\n",
    "print(\"Number of Unique Zipcodes: {}\".format(df[\"Zipcode\"].nunique()))"
   ]
  },
  {
   "cell_type": "markdown",
   "id": "426dff38",
   "metadata": {
    "papermill": {
     "duration": 0.004246,
     "end_time": "2023-04-20T18:11:21.965258",
     "exception": false,
     "start_time": "2023-04-20T18:11:21.961012",
     "status": "completed"
    },
    "tags": []
   },
   "source": [
    "Với hơn 3000 danh mục, đặc trưng `Zipcode` là một ứng viên phù hợp để áp dụng target encoding. Ngoài ra, với kích thước tập dữ liệu lớn (hơn một triệu dòng), chúng ta có thể tách ra một phần dữ liệu để huấn luyện bộ mã hóa mà không ảnh hưởng nhiều đến mô hình.\n",
    "\n",
    "Chúng ta sẽ bắt đầu bằng cách tạo một tập con 25% để huấn luyện target encoder."
   ]
  },
  {
   "cell_type": "code",
   "execution_count": 9,
   "id": "a136a227",
   "metadata": {
    "execution": {
     "iopub.execute_input": "2023-04-20T18:11:21.976912Z",
     "iopub.status.busy": "2023-04-20T18:11:21.976468Z",
     "iopub.status.idle": "2023-04-20T18:11:22.451101Z",
     "shell.execute_reply": "2023-04-20T18:11:22.449710Z"
    },
    "papermill": {
     "duration": 0.484464,
     "end_time": "2023-04-20T18:11:22.455179",
     "exception": false,
     "start_time": "2023-04-20T18:11:21.970715",
     "status": "completed"
    },
    "tags": []
   },
   "outputs": [],
   "source": [
    "X = df.copy()\n",
    "y = X.pop('Rating')\n",
    "\n",
    "X_encode = X.sample(frac=0.25)\n",
    "y_encode = y[X_encode.index]\n",
    "X_pretrain = X.drop(X_encode.index)\n",
    "y_train = y[X_pretrain.index]"
   ]
  },
  {
   "cell_type": "markdown",
   "id": "752ebda0",
   "metadata": {
    "papermill": {
     "duration": 0.003727,
     "end_time": "2023-04-20T18:11:22.463313",
     "exception": false,
     "start_time": "2023-04-20T18:11:22.459586",
     "status": "completed"
    },
    "tags": []
   },
   "source": [
    "Gói `category_encoders` trong `scikit-learn-contrib` cung cấp một bộ mã hóa m-estimate, và chúng ta sẽ sử dụng nó để mã hóa đặc trưng `Zipcode`."
   ]
  },
  {
   "cell_type": "code",
   "execution_count": 10,
   "id": "b8d8f0e7",
   "metadata": {
    "execution": {
     "iopub.execute_input": "2023-04-20T18:11:22.473369Z",
     "iopub.status.busy": "2023-04-20T18:11:22.472938Z",
     "iopub.status.idle": "2023-04-20T18:11:24.221833Z",
     "shell.execute_reply": "2023-04-20T18:11:24.220580Z"
    },
    "papermill": {
     "duration": 1.757573,
     "end_time": "2023-04-20T18:11:24.224929",
     "exception": false,
     "start_time": "2023-04-20T18:11:22.467356",
     "status": "completed"
    },
    "tags": []
   },
   "outputs": [],
   "source": [
    "from category_encoders import MEstimateEncoder\n",
    "\n",
    "# Create the encoder instance. Choose m to control noise.\n",
    "encoder = MEstimateEncoder(cols=[\"Zipcode\"], m=5.0)\n",
    "\n",
    "# Fit the encoder on the encoding split.\n",
    "encoder.fit(X_encode, y_encode)\n",
    "\n",
    "# Encode the Zipcode column to create the final training data\n",
    "X_train = encoder.transform(X_pretrain)"
   ]
  },
  {
   "cell_type": "markdown",
   "id": "6469a9c7",
   "metadata": {
    "papermill": {
     "duration": 0.003957,
     "end_time": "2023-04-20T18:11:24.233109",
     "exception": false,
     "start_time": "2023-04-20T18:11:24.229152",
     "status": "completed"
    },
    "tags": []
   },
   "source": [
    "Hãy so sánh các giá trị đã được mã hóa với mục tiêu để đánh giá mức độ thông tin mà mã hóa của chúng ta có thể cung cấp."
   ]
  },
  {
   "cell_type": "code",
   "execution_count": 11,
   "id": "2998ffa7",
   "metadata": {
    "execution": {
     "iopub.execute_input": "2023-04-20T18:11:24.244840Z",
     "iopub.status.busy": "2023-04-20T18:11:24.244058Z",
     "iopub.status.idle": "2023-04-20T18:11:28.528158Z",
     "shell.execute_reply": "2023-04-20T18:11:28.526264Z"
    },
    "papermill": {
     "duration": 4.293438,
     "end_time": "2023-04-20T18:11:28.531287",
     "exception": false,
     "start_time": "2023-04-20T18:11:24.237849",
     "status": "completed"
    },
    "tags": []
   },
   "outputs": [
    {
     "data": {
      "image/png": "[encoded data removed]",
      "text/plain": [
       "<Figure size 576x432 with 1 Axes>"
      ]
     },
     "metadata": {},
     "output_type": "display_data"
    }
   ],
   "source": [
    "plt.figure(dpi=90)\n",
    "ax = sns.distplot(y, kde=False, norm_hist=True)\n",
    "ax = sns.kdeplot(X_train.Zipcode, color='r', ax=ax)\n",
    "ax.set_xlabel(\"Rating\")\n",
    "ax.legend(labels=['Zipcode', 'Rating']);"
   ]
  },
  {
   "cell_type": "markdown",
   "id": "190d0166",
   "metadata": {
    "papermill": {
     "duration": 0.00423,
     "end_time": "2023-04-20T18:11:28.540202",
     "exception": false,
     "start_time": "2023-04-20T18:11:28.535972",
     "status": "completed"
    },
    "tags": []
   },
   "source": [
    "Phân bố của đặc trưng `Zipcode` sau khi mã hóa nhìn chung tương đồng với phân bố của các đánh giá thực tế, điều này cho thấy rằng người xem phim có sự khác biệt đủ lớn trong đánh giá của họ giữa các mã vùng. Nhờ đó, target encoding có thể nắm bắt được thông tin hữu ích.\n",
    "\n",
    "# Đến lượt bạn #\n",
    "\n",
    "[**Áp dụng target encoding**](https://www.kaggle.com/kernels/fork/14393917) vào các đặc trưng trong *Ames* và khám phá một cách bất ngờ mà target encoding có thể dẫn đến overfitting."
   ]
  },
  {
   "cell_type": "markdown",
   "id": "92c6efe0",
   "metadata": {
    "papermill": {
     "duration": 0.004261,
     "end_time": "2023-04-20T18:11:28.549126",
     "exception": false,
     "start_time": "2023-04-20T18:11:28.544865",
     "status": "completed"
    },
    "tags": []
   },
   "source": [
    "---\n",
    "\n",
    "\n",
    "\n",
    "\n",
    "*Have questions or comments? Visit the [course discussion forum](https://www.kaggle.com/learn/feature-engineering/discussion) to chat with other learners.*"
   ]
  }
 ],
 "metadata": {
  "jupytext": {
   "cell_metadata_filter": "-all",
   "formats": "ipynb"
  },
  "kernelspec": {
   "display_name": "Python 3",
   "language": "python",
   "name": "python3"
  },
  "language_info": {
   "codemirror_mode": {
    "name": "ipython",
    "version": 3
   },
   "file_extension": ".py",
   "mimetype": "text/x-python",
   "name": "python",
   "nbconvert_exporter": "python",
   "pygments_lexer": "ipython3",
   "version": "3.13.2"
  },
  "papermill": {
   "default_parameters": {},
   "duration": 24.001919,
   "end_time": "2023-04-20T18:11:29.478166",
   "environment_variables": {},
   "exception": null,
   "input_path": "__notebook__.ipynb",
   "output_path": "__notebook__.ipynb",
   "parameters": {},
   "start_time": "2023-04-20T18:11:05.476247",
   "version": "2.4.0"
  }
 },
 "nbformat": 4,
 "nbformat_minor": 5
}
