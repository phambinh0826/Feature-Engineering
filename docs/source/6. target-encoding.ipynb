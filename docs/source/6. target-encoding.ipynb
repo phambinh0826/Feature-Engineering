{
 "cells": [
  {
   "cell_type": "markdown",
   "id": "7edc7770",
   "metadata": {
    "papermill": {
     "duration": 0.00469,
     "end_time": "2023-04-20T18:11:16.420417",
     "exception": false,
     "start_time": "2023-04-20T18:11:16.415727",
     "status": "completed"
    },
    "tags": []
   },
   "source": [
    "# 📌 **Introduction**  \n",
    "\n",
    "Hầu hết các kỹ thuật trong khóa học này đều áp dụng cho **đặc trưng số**.  \n",
    "\n",
    "✅ Kỹ thuật trong bài này - **target encoding** - dành riêng cho **đặc trưng phân loại**.  \n",
    "\n",
    "📊 Đây là một phương pháp **mã hóa danh mục thành số**, giống như **one-hot encoding** hoặc **label encoding**,  \n",
    "nhưng có một điểm khác biệt: nó sử dụng **giá trị mục tiêu** để tạo mã hóa.  \n",
    "\n",
    "🚀 Vì vậy, **target encoding** là một kỹ thuật **feature engineering có giám sát** (*supervised*)."
   ]
  },
  {
   "cell_type": "code",
   "execution_count": 33,
   "id": "cdcc1258",
   "metadata": {
    "_kg_hide-input": true,
    "execution": {
     "iopub.execute_input": "2023-04-20T18:11:16.432178Z",
     "iopub.status.busy": "2023-04-20T18:11:16.431151Z",
     "iopub.status.idle": "2023-04-20T18:11:16.467037Z",
     "shell.execute_reply": "2023-04-20T18:11:16.465533Z"
    },
    "papermill": {
     "duration": 0.046242,
     "end_time": "2023-04-20T18:11:16.470595",
     "exception": false,
     "start_time": "2023-04-20T18:11:16.424353",
     "status": "completed"
    },
    "tags": []
   },
   "outputs": [],
   "source": [
    "import pandas as pd\n",
    "\n",
    "autos = pd.read_csv(\"autos.csv\")"
   ]
  },
  {
   "cell_type": "markdown",
   "id": "77b3eec9",
   "metadata": {
    "lines_to_next_cell": 0,
    "papermill": {
     "duration": 0.00343,
     "end_time": "2023-04-20T18:11:16.478019",
     "exception": false,
     "start_time": "2023-04-20T18:11:16.474589",
     "status": "completed"
    },
    "tags": []
   },
   "source": [
    "# 🎯 **Target Encoding**  \n",
    "\n",
    "📌 **Target encoding** là phương pháp **mã hóa danh mục** bằng cách thay thế mỗi **giá trị phân loại**  \n",
    "bằng một **số liệu thống kê** được tính toán từ **biến mục tiêu**.  \n",
    "\n",
    "✅ Một cách đơn giản và hiệu quả là **tính trung bình theo nhóm** (*group aggregation*), như trong **Bài 3**.  \n",
    "\n",
    "📊 Ví dụ với tập dữ liệu *Automobiles*, chúng ta có thể **tính giá trung bình** của mỗi **hãng xe**:  "
   ]
  },
  {
   "cell_type": "code",
   "execution_count": 34,
   "id": "a54df105",
   "metadata": {
    "execution": {
     "iopub.execute_input": "2023-04-20T18:11:16.488099Z",
     "iopub.status.busy": "2023-04-20T18:11:16.487063Z",
     "iopub.status.idle": "2023-04-20T18:11:16.527690Z",
     "shell.execute_reply": "2023-04-20T18:11:16.525791Z"
    },
    "papermill": {
     "duration": 0.049719,
     "end_time": "2023-04-20T18:11:16.531547",
     "exception": false,
     "start_time": "2023-04-20T18:11:16.481828",
     "status": "completed"
    },
    "tags": []
   },
   "outputs": [
    {
     "data": {
      "text/html": [
       "<div>\n",
       "<style scoped>\n",
       "    .dataframe tbody tr th:only-of-type {\n",
       "        vertical-align: middle;\n",
       "    }\n",
       "\n",
       "    .dataframe tbody tr th {\n",
       "        vertical-align: top;\n",
       "    }\n",
       "\n",
       "    .dataframe thead th {\n",
       "        text-align: right;\n",
       "    }\n",
       "</style>\n",
       "<table border=\"1\" class=\"dataframe\">\n",
       "  <thead>\n",
       "    <tr style=\"text-align: right;\">\n",
       "      <th></th>\n",
       "      <th>make</th>\n",
       "      <th>price</th>\n",
       "      <th>make_encoded</th>\n",
       "    </tr>\n",
       "  </thead>\n",
       "  <tbody>\n",
       "    <tr>\n",
       "      <th>0</th>\n",
       "      <td>alfa-romero</td>\n",
       "      <td>13495</td>\n",
       "      <td>15498.333333</td>\n",
       "    </tr>\n",
       "    <tr>\n",
       "      <th>1</th>\n",
       "      <td>alfa-romero</td>\n",
       "      <td>16500</td>\n",
       "      <td>15498.333333</td>\n",
       "    </tr>\n",
       "    <tr>\n",
       "      <th>2</th>\n",
       "      <td>alfa-romero</td>\n",
       "      <td>16500</td>\n",
       "      <td>15498.333333</td>\n",
       "    </tr>\n",
       "    <tr>\n",
       "      <th>3</th>\n",
       "      <td>audi</td>\n",
       "      <td>13950</td>\n",
       "      <td>17859.166667</td>\n",
       "    </tr>\n",
       "    <tr>\n",
       "      <th>4</th>\n",
       "      <td>audi</td>\n",
       "      <td>17450</td>\n",
       "      <td>17859.166667</td>\n",
       "    </tr>\n",
       "    <tr>\n",
       "      <th>5</th>\n",
       "      <td>audi</td>\n",
       "      <td>15250</td>\n",
       "      <td>17859.166667</td>\n",
       "    </tr>\n",
       "    <tr>\n",
       "      <th>6</th>\n",
       "      <td>audi</td>\n",
       "      <td>17710</td>\n",
       "      <td>17859.166667</td>\n",
       "    </tr>\n",
       "    <tr>\n",
       "      <th>7</th>\n",
       "      <td>audi</td>\n",
       "      <td>18920</td>\n",
       "      <td>17859.166667</td>\n",
       "    </tr>\n",
       "    <tr>\n",
       "      <th>8</th>\n",
       "      <td>audi</td>\n",
       "      <td>23875</td>\n",
       "      <td>17859.166667</td>\n",
       "    </tr>\n",
       "    <tr>\n",
       "      <th>9</th>\n",
       "      <td>bmw</td>\n",
       "      <td>16430</td>\n",
       "      <td>26118.750000</td>\n",
       "    </tr>\n",
       "  </tbody>\n",
       "</table>\n",
       "</div>"
      ],
      "text/plain": [
       "          make  price  make_encoded\n",
       "0  alfa-romero  13495  15498.333333\n",
       "1  alfa-romero  16500  15498.333333\n",
       "2  alfa-romero  16500  15498.333333\n",
       "3         audi  13950  17859.166667\n",
       "4         audi  17450  17859.166667\n",
       "5         audi  15250  17859.166667\n",
       "6         audi  17710  17859.166667\n",
       "7         audi  18920  17859.166667\n",
       "8         audi  23875  17859.166667\n",
       "9          bmw  16430  26118.750000"
      ]
     },
     "execution_count": 34,
     "metadata": {},
     "output_type": "execute_result"
    }
   ],
   "source": [
    "autos[\"make_encoded\"] = autos.groupby(\"make\")[\"price\"].transform(\"mean\")\n",
    "\n",
    "autos[[\"make\", \"price\", \"make_encoded\"]].head(10)"
   ]
  },
  {
   "cell_type": "markdown",
   "id": "77ee04f9",
   "metadata": {
    "papermill": {
     "duration": 0.003628,
     "end_time": "2023-04-20T18:11:16.539305",
     "exception": false,
     "start_time": "2023-04-20T18:11:16.535677",
     "status": "completed"
    },
    "tags": []
   },
   "source": [
    "## 🎯 **Target Encoding**  \n",
    "\n",
    "📌 **Mean Encoding** là một dạng **target encoding** phổ biến. Khi áp dụng cho biến mục tiêu nhị phân, nó còn được gọi là **bin counting**.  \n",
    "📌 Một số tên khác mà bạn có thể gặp: **likelihood encoding**, **impact encoding**, **leave-one-out encoding**.\n",
    "\n",
    "---\n",
    "\n",
    "## 🔄 **Smoothing trong Target Encoding**\n",
    "\n",
    "Target encoding có thể gặp hai vấn đề chính:\n",
    "\n",
    "1️⃣ **Danh mục không xác định** (*Unknown categories*):\n",
    "   - Khi áp dụng target encoding, có nguy cơ **quá khớp** (*overfitting*).\n",
    "   - Cần chia tập dữ liệu thành phần \"encoding\" riêng biệt để huấn luyện.\n",
    "   - Khi áp dụng cho các tập dữ liệu khác, Pandas sẽ điền giá trị thiếu cho các danh mục chưa từng xuất hiện.\n",
    "\n",
    "2️⃣ **Danh mục hiếm gặp** (*Rare categories*):\n",
    "   - Nếu một danh mục chỉ xuất hiện rất ít lần, thống kê của nó có thể **không chính xác**.\n",
    "   - Ví dụ: Trong tập *Automobiles*, hãng `mercury` chỉ xuất hiện **một lần** → Giá trung bình của `mercury` chỉ dựa trên một mẫu, không phản ánh tổng thể.\n",
    "   - Điều này có thể làm tăng khả năng **overfitting**.\n",
    "\n",
    "✅ **Giải pháp**: **Thêm smoothing** ✨\n",
    "\n",
    "📌 **Ý tưởng:** Kết hợp **giá trị trung bình trong nhóm** với **trung bình toàn bộ dữ liệu**. \n",
    "- 🟢 **Danh mục hiếm** → Ít ảnh hưởng từ giá trị trung bình trong nhóm.\n",
    "- 🟡 **Danh mục không có dữ liệu** → Lấy trung bình toàn bộ.\n",
    "\n",
    "📌 **Công thức (pseudocode):**\n",
    "```python\n",
    "encoding = weight * in_category + (1 - weight) * overall\n",
    "```\n",
    "📌 **Tính trọng số `weight` theo công thức `m-estimate`:**\n",
    "```python\n",
    "weight = n / (n + m)\n",
    "```\n",
    "Trong đó:\n",
    "- `n` là số lần danh mục xuất hiện.\n",
    "- `m` là tham số xác định mức độ **smoothing** (giá trị lớn giúp giảm overfitting).\n",
    "\n",
    "📌 **Ví dụ với tập *Automobiles***: \n",
    "\n",
    "Giả sử có **ba xe Chevrolet**, chọn `m=2.0`, khi đó encoding cho `chevrolet` là:\n",
    "```python\n",
    "chevrolet = 0.6 * 6000.00 + 0.4 * 13285.03\n",
    "```\n",
    "\n",
    "🧐 **Lưu ý khi chọn giá trị `m`**:\n",
    "- Nếu dữ liệu có nhiều **nhiễu** 🌀 (ví dụ: giá xe thay đổi nhiều theo từng hãng) → chọn `m` **lớn**.\n",
    "- Nếu giá trị trong mỗi danh mục **ổn định** 📉 → có thể chọn `m` **nhỏ** hơn.\n",
    "\n",
    "---\n",
    "\n",
    "## 📌 **Ứng dụng của Target Encoding**\n",
    "\n",
    "<blockquote style=\"margin-right:auto; margin-left:auto; background-color: #ebf9ff; padding: 1em; margin:24px;\">\n",
    "<strong>🎯 Khi nào nên dùng Target Encoding?</strong><br>\n",
    "✅ **Đặc trưng có số lượng danh mục lớn** (*High-cardinality features*):\n",
    "<ul>\n",
    "<li>One-hot encoding có thể tạo quá nhiều cột → khó xử lý.</li>\n",
    "<li>Label encoding có thể không phù hợp.</li>\n",
    "<li>Target encoding giúp mã hóa dựa trên **mối quan hệ với biến mục tiêu**.</li>\n",
    "</ul>\n",
    "✅ **Đặc trưng quan trọng theo chuyên môn** (*Domain-motivated features*):\n",
    "<ul>\n",
    "<li>Ví dụ: Nếu bạn biết từ kinh nghiệm rằng một danh mục có thể quan trọng, nhưng nó có điểm MI thấp → Target encoding có thể giúp khám phá mối quan hệ thực sự.</li>\n",
    "</ul>\n",
    "</blockquote>\n",
    "\n",
    "---\n",
    "\n",
    "## 🎬 **Ví dụ - MovieLens1M**  \n",
    "\n",
    "Tập dữ liệu [*MovieLens1M*](https://www.kaggle.com/grouplens/movielens-20m-dataset) chứa **1 triệu** lượt đánh giá phim, với thông tin về người dùng và phim.  \n",
    "Dưới đây là cách áp dụng **target encoding** trên tập dữ liệu này:  \n",
    "\n",
    "```python\n",
    "import pandas as pd\n",
    "\n",
    "# Giả sử df chứa dữ liệu MovieLens1M\n",
    "# Target: Điểm đánh giá trung bình của mỗi bộ phim\n",
    "movie_means = df.groupby(\"movie_id\")[\"rating\"].mean()\n",
    "df[\"movie_encoded\"] = df[\"movie_id\"].map(movie_means)"
   ]
  },
  {
   "cell_type": "code",
   "execution_count": 35,
   "id": "570055c8",
   "metadata": {
    "_kg_hide-input": true,
    "execution": {
     "iopub.execute_input": "2023-04-20T18:11:16.549735Z",
     "iopub.status.busy": "2023-04-20T18:11:16.548996Z",
     "iopub.status.idle": "2023-04-20T18:11:21.953736Z",
     "shell.execute_reply": "2023-04-20T18:11:21.952391Z"
    },
    "papermill": {
     "duration": 5.413234,
     "end_time": "2023-04-20T18:11:21.956433",
     "exception": false,
     "start_time": "2023-04-20T18:11:16.543199",
     "status": "completed"
    },
    "tags": []
   },
   "outputs": [
    {
     "name": "stdout",
     "output_type": "stream",
     "text": [
      "Number of Unique Zipcodes: 3439\n"
     ]
    }
   ],
   "source": [
    "import matplotlib.pyplot as plt\n",
    "import numpy as np\n",
    "import pandas as pd\n",
    "import seaborn as sns\n",
    "import warnings\n",
    "\n",
    "plt.rc(\"figure\", autolayout=True)\n",
    "plt.rc(\n",
    "    \"axes\",\n",
    "    labelweight=\"bold\",\n",
    "    labelsize=\"large\",\n",
    "    titleweight=\"bold\",\n",
    "    titlesize=14,\n",
    "    titlepad=10,\n",
    ")\n",
    "warnings.filterwarnings('ignore')\n",
    "\n",
    "\n",
    "df = pd.read_csv(\"movielens1m.csv\")\n",
    "df = df.astype(np.uint8, errors='ignore') # reduce memory footprint\n",
    "print(\"Number of Unique Zipcodes: {}\".format(df[\"Zipcode\"].nunique()))"
   ]
  },
  {
   "cell_type": "markdown",
   "id": "426dff38",
   "metadata": {
    "papermill": {
     "duration": 0.004246,
     "end_time": "2023-04-20T18:11:21.965258",
     "exception": false,
     "start_time": "2023-04-20T18:11:21.961012",
     "status": "completed"
    },
    "tags": []
   },
   "source": [
    "📌 Với hơn **3000 danh mục**, đặc trưng **`Zipcode`** là ứng viên phù hợp cho **target encoding**.  \n",
    "\n",
    "✅ Tập dữ liệu có hơn **1 triệu dòng**, đủ lớn để dành một phần dữ liệu tạo mã hóa.  \n",
    "\n",
    "📊 Trước tiên, chúng ta sẽ **tách 25% dữ liệu** để huấn luyện bộ mã hóa mục tiêu. "
   ]
  },
  {
   "cell_type": "code",
   "execution_count": 36,
   "id": "a136a227",
   "metadata": {
    "execution": {
     "iopub.execute_input": "2023-04-20T18:11:21.976912Z",
     "iopub.status.busy": "2023-04-20T18:11:21.976468Z",
     "iopub.status.idle": "2023-04-20T18:11:22.451101Z",
     "shell.execute_reply": "2023-04-20T18:11:22.449710Z"
    },
    "papermill": {
     "duration": 0.484464,
     "end_time": "2023-04-20T18:11:22.455179",
     "exception": false,
     "start_time": "2023-04-20T18:11:21.970715",
     "status": "completed"
    },
    "tags": []
   },
   "outputs": [],
   "source": [
    "X = df.copy()\n",
    "y = X.pop('Rating')\n",
    "\n",
    "X_encode = X.sample(frac=0.25)\n",
    "y_encode = y[X_encode.index]\n",
    "X_pretrain = X.drop(X_encode.index)\n",
    "y_train = y[X_pretrain.index]"
   ]
  },
  {
   "cell_type": "markdown",
   "id": "752ebda0",
   "metadata": {
    "papermill": {
     "duration": 0.003727,
     "end_time": "2023-04-20T18:11:22.463313",
     "exception": false,
     "start_time": "2023-04-20T18:11:22.459586",
     "status": "completed"
    },
    "tags": []
   },
   "source": [
    "📌 Thư viện **`category_encoders`** trong **`scikit-learn-contrib`** cung cấp **m-estimate encoder**,  \n",
    "chúng ta sẽ sử dụng để **mã hóa đặc trưng `Zipcode`**.  "
   ]
  },
  {
   "cell_type": "code",
   "execution_count": 37,
   "id": "b8d8f0e7",
   "metadata": {
    "execution": {
     "iopub.execute_input": "2023-04-20T18:11:22.473369Z",
     "iopub.status.busy": "2023-04-20T18:11:22.472938Z",
     "iopub.status.idle": "2023-04-20T18:11:24.221833Z",
     "shell.execute_reply": "2023-04-20T18:11:24.220580Z"
    },
    "papermill": {
     "duration": 1.757573,
     "end_time": "2023-04-20T18:11:24.224929",
     "exception": false,
     "start_time": "2023-04-20T18:11:22.467356",
     "status": "completed"
    },
    "tags": []
   },
   "outputs": [],
   "source": [
    "from category_encoders import MEstimateEncoder\n",
    "\n",
    "# Create the encoder instance. Choose m to control noise.\n",
    "encoder = MEstimateEncoder(cols=[\"Zipcode\"], m=5.0)\n",
    "\n",
    "# Fit the encoder on the encoding split.\n",
    "encoder.fit(X_encode, y_encode)\n",
    "\n",
    "# Encode the Zipcode column to create the final training data\n",
    "X_train = encoder.transform(X_pretrain)"
   ]
  },
  {
   "cell_type": "markdown",
   "id": "6469a9c7",
   "metadata": {
    "papermill": {
     "duration": 0.003957,
     "end_time": "2023-04-20T18:11:24.233109",
     "exception": false,
     "start_time": "2023-04-20T18:11:24.229152",
     "status": "completed"
    },
    "tags": []
   },
   "source": [
    "📊 Hãy so sánh **giá trị đã mã hóa** với **biến mục tiêu** để đánh giá mức độ **thông tin** của phương pháp mã hóa này.  \n"
   ]
  },
  {
   "cell_type": "code",
   "execution_count": 38,
   "id": "2998ffa7",
   "metadata": {
    "execution": {
     "iopub.execute_input": "2023-04-20T18:11:24.244840Z",
     "iopub.status.busy": "2023-04-20T18:11:24.244058Z",
     "iopub.status.idle": "2023-04-20T18:11:28.528158Z",
     "shell.execute_reply": "2023-04-20T18:11:28.526264Z"
    },
    "papermill": {
     "duration": 4.293438,
     "end_time": "2023-04-20T18:11:28.531287",
     "exception": false,
     "start_time": "2023-04-20T18:11:24.237849",
     "status": "completed"
    },
    "tags": []
   },
   "outputs": [
    {
     "data": {
      "image/png": "[encoded data removed]",
      "text/plain": [
       "<Figure size 576x432 with 1 Axes>"
      ]
     },
     "metadata": {},
     "output_type": "display_data"
    }
   ],
   "source": [
    "plt.figure(dpi=90)\n",
    "ax = sns.distplot(y, kde=False, norm_hist=True)\n",
    "ax = sns.kdeplot(X_train.Zipcode, color='r', ax=ax)\n",
    "ax.set_xlabel(\"Rating\")\n",
    "ax.legend(labels=['Zipcode', 'Rating'])\n",
    "plt.grid(True);"
   ]
  },
  {
   "cell_type": "markdown",
   "id": "190d0166",
   "metadata": {
    "papermill": {
     "duration": 0.00423,
     "end_time": "2023-04-20T18:11:28.540202",
     "exception": false,
     "start_time": "2023-04-20T18:11:28.535972",
     "status": "completed"
    },
    "tags": []
   },
   "source": [
    "📊 **Phân tích phân phối của `Zipcode` đã mã hóa**  \n",
    "\n",
    "✅ Phân phối của đặc trưng `Zipcode` sau khi mã hóa **tương đồng với phân phối thực tế của đánh giá**.  \n",
    "Điều này cho thấy người xem phim có sự khác biệt rõ rệt về đánh giá **giữa các khu vực**.  \n",
    "\n",
    "🔍 **Target encoding đã giúp nắm bắt thông tin hữu ích!**  \n",
    "\n",
    "---\n",
    "\n",
    "# 🎯 **Đến lượt bạn!**  \n",
    "\n",
    "📌 [**Áp dụng target encoding**](https://www.kaggle.com/kernels/fork/14393917)  \n",
    "trên tập dữ liệu *Ames* 🏡 và khám phá một cách **bất ngờ** mà target encoding có thể gây **overfitting**! 🚀  "
   ]
  },
  {
   "cell_type": "markdown",
   "id": "92c6efe0",
   "metadata": {
    "papermill": {
     "duration": 0.004261,
     "end_time": "2023-04-20T18:11:28.549126",
     "exception": false,
     "start_time": "2023-04-20T18:11:28.544865",
     "status": "completed"
    },
    "tags": []
   },
   "source": [
    "---\n",
    "\n",
    "\n",
    "\n",
    "\n",
    "*Have questions or comments? Visit the [course discussion forum](https://www.kaggle.com/learn/feature-engineering/discussion) to chat with other learners.*"
   ]
  }
 ],
 "metadata": {
  "jupytext": {
   "cell_metadata_filter": "-all",
   "formats": "ipynb"
  },
  "kernelspec": {
   "display_name": "Python 3",
   "language": "python",
   "name": "python3"
  },
  "language_info": {
   "codemirror_mode": {
    "name": "ipython",
    "version": 3
   },
   "file_extension": ".py",
   "mimetype": "text/x-python",
   "name": "python",
   "nbconvert_exporter": "python",
   "pygments_lexer": "ipython3",
   "version": "3.13.2"
  },
  "papermill": {
   "default_parameters": {},
   "duration": 24.001919,
   "end_time": "2023-04-20T18:11:29.478166",
   "environment_variables": {},
   "exception": null,
   "input_path": "__notebook__.ipynb",
   "output_path": "__notebook__.ipynb",
   "parameters": {},
   "start_time": "2023-04-20T18:11:05.476247",
   "version": "2.4.0"
  }
 },
 "nbformat": 4,
 "nbformat_minor": 5
}
