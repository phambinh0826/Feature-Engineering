{
 "cells": [
  {
   "cell_type": "markdown",
   "id": "2d1f0cdb",
   "metadata": {
    "papermill": {
     "duration": 0.005552,
     "end_time": "2023-04-20T18:11:06.362153",
     "exception": false,
     "start_time": "2023-04-20T18:11:06.356601",
     "status": "completed"
    },
    "tags": []
   },
   "source": [
    "# Giới thiệu 📌  \n",
    "\n",
    "Trong bài học trước, chúng ta đã tìm hiểu về phương pháp đầu tiên trong **kỹ thuật đặc trưng dựa trên mô hình**: **phân cụm** (*clustering*). Trong bài học này, chúng ta sẽ khám phá một phương pháp tiếp theo: **phân tích thành phần chính** (*Principal Component Analysis - PCA*).  \n",
    "\n",
    "Tương tự như cách phân cụm **chia tập dữ liệu thành các nhóm dựa trên sự gần nhau**, PCA có thể được xem như **chia nhỏ phương sai trong dữ liệu**. PCA là một công cụ mạnh mẽ giúp bạn **khám phá các mối quan hệ quan trọng trong dữ liệu** và cũng có thể được sử dụng để tạo ra các **đặc trưng mang nhiều thông tin hơn**. 🔍📊  \n",
    "\n",
    "> 📌 **Lưu ý kỹ thuật**: PCA thường được áp dụng trên dữ liệu đã được [**chuẩn hóa**](https://www.kaggle.com/alexisbcook/scaling-and-normalization).  \n",
    "> - Với dữ liệu chuẩn hóa, **\"phương sai\" đồng nghĩa với \"tương quan\"** (*correlation*).  \n",
    "> - Với dữ liệu chưa chuẩn hóa, **\"phương sai\" đồng nghĩa với \"hiệp phương sai\"** (*covariance*).  \n",
    "> - Trong khóa học này, **tất cả dữ liệu sẽ được chuẩn hóa trước khi áp dụng PCA**. ⚖️✅  \n",
    "\n",
    "---\n",
    "\n",
    "# Phân tích thành phần chính (PCA) 🎯  \n",
    "\n",
    "Trong tập dữ liệu [*Abalone*](https://www.kaggle.com/rodolfomendes/abalone-dataset), có các phép đo vật lý được thu thập từ hàng nghìn con **abalone** tại Tasmania. *(Abalone là một loài sinh vật biển tương tự như ngao hoặc hàu 🐚.)*  \n",
    "\n",
    "Hiện tại, chúng ta chỉ xem xét hai đặc trưng: **`Height`** (chiều cao) và **`Diameter`** (đường kính) của vỏ abalone.  \n",
    "\n",
    "Bạn có thể tưởng tượng rằng trong dữ liệu này tồn tại những **\"trục biến thiên\"** (*axes of variation*) mô tả cách các cá thể abalone khác nhau. Về mặt trực quan, các trục này xuất hiện dưới dạng **các đường vuông góc chạy dọc theo các chiều tự nhiên của dữ liệu**, với **mỗi trục tương ứng với một đặc trưng ban đầu**. 🏹📈  \n",
    "\n",
    "<figure style=\"padding: 1em;\">\n",
    "<img src=\"../_static/images/rr8NCDy.png\" width=300, alt=\"\">\n",
    "<figcaption style=\"textalign: center; font-style: italic\"><center>\n",
    "</center></figcaption>\n",
    "</figure>  "
   ]
  },
  {
   "cell_type": "markdown",
   "id": "36280605",
   "metadata": {
    "papermill": {
     "duration": 0.00396,
     "end_time": "2023-04-20T18:11:06.370683",
     "exception": false,
     "start_time": "2023-04-20T18:11:06.366723",
     "status": "completed"
    },
    "tags": []
   },
   "source": [
    "### 🌀 Axes of Variation in PCA\n",
    "\n",
    "Thường thì chúng ta có thể đặt tên cho các **trục biến thiên** (*axes of variation*).  \n",
    "\n",
    "- Trục dài hơn có thể gọi là **\"Kích thước\"** (*Size*):  \n",
    "  - 📉 *Chiều cao nhỏ* và *đường kính nhỏ* (góc dưới bên trái)  \n",
    "  - 📈 *Chiều cao lớn* và *đường kính lớn* (góc trên bên phải)  \n",
    "\n",
    "- Trục ngắn hơn có thể gọi là **\"Hình dạng\"** (*Shape*):  \n",
    "  - 🔵 *Chiều cao nhỏ* và *đường kính lớn* (*dáng dẹt*)  \n",
    "  - 🟠 *Chiều cao lớn* và *đường kính nhỏ* (*dáng tròn*)  \n",
    "\n",
    "---\n",
    "\n",
    "💡 **Chú ý:**  \n",
    "Thay vì mô tả *abalone* bằng `Height` (📏 Chiều cao) và `Diameter` (⚫ Đường kính),  \n",
    "chúng ta có thể mô tả chúng bằng **\"Size\"** và **\"Shape\"**.  \n",
    "\n",
    "🔄 **Đây chính là bản chất của PCA (Principal Component Analysis)**:  \n",
    "Thay vì mô tả dữ liệu bằng các đặc trưng ban đầu, chúng ta mô tả nó bằng **các trục biến thiên chính** (*principal components*).  \n",
    "Các **trục biến thiên chính** trở thành **đặc trưng mới** của tập dữ liệu.\n",
    "\n",
    "<figure style=\"padding: 1em;\">\n",
    "<img src=\"../_static/images/XQlRD1q.png\" width=600, alt=\"PCA transformation\">\n",
    "<figcaption style=\"textalign: center; font-style: italic\">\n",
    "<center>🧩 Các *principal components* trở thành đặc trưng mới bằng cách xoay dữ liệu trong không gian đặc trưng.</center>\n",
    "</figcaption>\n",
    "</figure>\n",
    "\n",
    "---\n",
    "\n",
    "### 🔢 Công thức PCA - **Tổ hợp tuyến tính của các đặc trưng ban đầu**\n",
    "📊 Các đặc trưng mới trong PCA thực chất chỉ là các **tổ hợp tuyến tính** (*linear combinations*) của các đặc trưng gốc:\n",
    "\n",
    "```python\n",
    "df[\"Size\"] = 0.707 * X[\"Height\"] + 0.707 * X[\"Diameter\"]\n",
    "df[\"Shape\"] = 0.707 * X[\"Height\"] - 0.707 * X[\"Diameter\"]\n",
    "```\n",
    "### 🎯 **Principal Components and Loadings**\n",
    "\n",
    "📌 Các đặc trưng mới được tạo ra trong PCA được gọi là **thành phần chính** (*principal components*).  \n",
    "📌 Các trọng số tương ứng của chúng được gọi là **loadings**.  \n",
    "\n",
    "🔢 **Số lượng thành phần chính** sẽ bằng với số lượng đặc trưng trong tập dữ liệu gốc:  \n",
    "- Nếu chúng ta sử dụng 10 đặc trưng ban đầu, chúng ta sẽ thu được 10 **principal components**.\n",
    "\n",
    "---\n",
    "\n",
    "### 🔍 **Ý nghĩa của Loadings**\n",
    "✅ Các **loadings** cho biết thành phần chính biểu diễn loại biến thiên nào dựa trên **dấu và độ lớn** của hệ số.\n",
    "\n",
    "| 📊 **Features \\ Components** | 📏 **Size (PC1)** | 🌀 **Shape (PC2)** |\n",
    "|-----------------------------|------------------|------------------|\n",
    "| Height 📏                    | 0.707            | 0.707            |\n",
    "| Diameter ⚫                   | 0.707            | -0.707           |\n",
    "\n",
    "📌 **Size (PC1) 🏗:**  \n",
    "- Cả *Height* 📏 và *Diameter* ⚫ đóng góp với trọng số **dương** ➝ Đại diện cho **kích thước tổng thể**.\n",
    "\n",
    "📌 **Shape (PC2) 🔄:**  \n",
    "- *Height* 📏 và *Diameter* ⚫ có trọng số **trái dấu** ➝ Đại diện cho **độ dẹt hay độ tròn**."
   ]
  },
  {
   "cell_type": "markdown",
   "id": "5fbc92f3",
   "metadata": {
    "papermill": {
     "duration": 0.004043,
     "end_time": "2023-04-20T18:11:06.378945",
     "exception": false,
     "start_time": "2023-04-20T18:11:06.374902",
     "status": "completed"
    },
    "tags": []
   },
   "source": [
    "### 📊 **Phân tích Loadings trong PCA**\n",
    "\n",
    "📌 Bảng *loadings* này cho chúng ta biết rằng trong **thành phần `Size`**:  \n",
    "- `Height` 📏 và `Diameter` ⚫ biến thiên cùng chiều (**cùng dấu**).  \n",
    "\n",
    "📌 Nhưng trong **thành phần `Shape`**:  \n",
    "- `Height` 📏 và `Diameter` ⚫ biến thiên theo chiều ngược nhau (**khác dấu**).  \n",
    "\n",
    "📝 Trong mỗi thành phần, các *loadings* có độ lớn như nhau, do đó các đặc trưng đóng góp tương đương vào cả hai thành phần.\n",
    "\n",
    "---\n",
    "\n",
    "### 📈 **Tỷ lệ phương sai giải thích trong PCA**  \n",
    "PCA không chỉ cho biết các thành phần chính mà còn cho biết **mức độ biến thiên** mà mỗi thành phần nắm bắt.  \n",
    "\n",
    "Từ hình dưới, chúng ta thấy rằng dữ liệu biến thiên nhiều hơn dọc theo thành phần `Size` so với thành phần `Shape`.  \n",
    "PCA làm điều này một cách chính xác bằng cách tính **tỷ lệ phương sai giải thích** (*percent of explained variance*).\n",
    "\n",
    "<figure style=\"padding: 1em;\">\n",
    "<img src=\"../_static/images/xWTvqDA.png\" width=600, alt=\"\">\n",
    "<figcaption style=\"textalign: center; font-style: italic\"><center>\n",
    "📊 *Size* chiếm khoảng **96%** và *Shape* chỉ chiếm khoảng **4%** tổng phương sai của `Height` và `Diameter`.\n",
    "</center></figcaption>\n",
    "</figure>\n",
    "\n",
    "📌 Thành phần `Size` **nắm bắt phần lớn biến thiên** giữa `Height` 📏 và `Diameter` ⚫.  \n",
    "📌 Tuy nhiên, **lượng phương sai trong một thành phần không đồng nghĩa với việc nó là đặc trưng dự đoán tốt nhất** – điều đó còn tùy thuộc vào **mục tiêu dự đoán của bạn**.  \n",
    "\n",
    "---\n",
    "\n",
    "## 🏗 **Ứng dụng PCA trong Kỹ thuật Đặc trưng**  \n",
    "\n",
    "Có hai cách bạn có thể sử dụng PCA để tạo đặc trưng mới (*feature engineering*).\n",
    "\n",
    "### 1️⃣ 📊 **Sử dụng PCA như một kỹ thuật mô tả**\n",
    "📝 Vì PCA giúp xác định các **trục biến thiên chính**, ta có thể:  \n",
    "✅ Tính **MI scores** (hệ số tương quan thông tin) cho các thành phần PCA để xem biến thiên nào có giá trị dự đoán cao nhất.  \n",
    "✅ Dùng thông tin này để tạo đặc trưng mới:  \n",
    "   - Nếu **`Size`** quan trọng → tạo đặc trưng bằng tích `Height * Diameter`.  \n",
    "   - Nếu **`Shape`** quan trọng → tạo đặc trưng bằng tỷ lệ `Height / Diameter`.  \n",
    "✅ Thậm chí có thể **gom cụm (clustering)** trên các thành phần PCA có hệ số cao.\n",
    "\n",
    "### 2️⃣ 🏗 **Sử dụng các thành phần PCA như đặc trưng mới**  \n",
    "PCA giúp **biến đổi cấu trúc biến thiên dữ liệu** trực tiếp, đôi khi giúp ích hơn so với đặc trưng ban đầu. Một số ứng dụng bao gồm:\n",
    "\n",
    "- 🔽 **Giảm số chiều (Dimensionality Reduction)**:  \n",
    "  - Nếu dữ liệu có nhiều đặc trưng tương quan (*multicollinearity*), PCA sẽ **tách ra các thành phần có phương sai thấp** và ta có thể loại bỏ chúng để tránh dư thừa.  \n",
    "\n",
    "- 🚨 **Phát hiện bất thường (Anomaly Detection)**:  \n",
    "  - Những điểm dữ liệu khác biệt có thể dễ dàng nhận thấy trong **các thành phần có phương sai thấp**.\n",
    "\n",
    "- 🔊 **Giảm nhiễu (Noise Reduction)**:  \n",
    "  - PCA có thể giúp tách **tín hiệu quan trọng** ra khỏi nhiễu, tăng **tỷ lệ tín hiệu trên nhiễu** (*signal-to-noise ratio*).\n",
    "\n",
    "- 🔄 **Giảm tương quan đặc trưng (Decorrelation)**:  \n",
    "  - Một số thuật toán **khó xử lý dữ liệu có đặc trưng tương quan cao**, PCA giúp biến đổi chúng thành **các đặc trưng không tương quan**.\n",
    "\n",
    "📌 **PCA giúp bạn truy cập trực tiếp vào cấu trúc tương quan của dữ liệu!**  \n",
    "🚀 Bạn hoàn toàn có thể sáng tạo ra các ứng dụng riêng từ PCA!\n",
    "\n",
    "---\n",
    "\n",
    "### 🎯 **📌 PCA - Best Practices**  \n",
    "\n",
    "<blockquote style=\"margin-right:auto; margin-left:auto; background-color: #ebf9ff; padding: 1em; margin:24px;\">\n",
    "🔍 **Những điều cần lưu ý khi sử dụng PCA:**  \n",
    "✅ PCA **chỉ hoạt động với các đặc trưng số** (dữ liệu dạng liên tục hoặc số đếm).  \n",
    "✅ PCA **nhạy cảm với tỉ lệ (scale)** → Nên chuẩn hóa dữ liệu (*standardization*) trước khi áp dụng PCA.  \n",
    "✅ Hãy **loại bỏ hoặc giới hạn các ngoại lai** (*outliers*), vì chúng có thể ảnh hưởng lớn đến kết quả PCA.  \n",
    "</blockquote>\n",
    "\n",
    "---\n",
    "\n",
    "## 🚗 **Ví dụ - PCA trên dữ liệu Ô tô 1985**  \n",
    "\n",
    "Trong ví dụ này, chúng ta sẽ quay lại tập dữ liệu [*Automobile*](https://www.kaggle.com/toramky/automobile-dataset) và áp dụng PCA để **khám phá các đặc trưng tiềm năng**.  \n",
    "\n",
    "🏗 Ở phần bài tập, bạn sẽ có cơ hội thử nghiệm thêm nhiều ứng dụng khác của PCA! 🚀 "
   ]
  },
  {
   "cell_type": "code",
   "execution_count": 21,
   "id": "528e9fea",
   "metadata": {
    "_kg_hide-input": true,
    "execution": {
     "iopub.execute_input": "2023-04-20T18:11:06.390124Z",
     "iopub.status.busy": "2023-04-20T18:11:06.388891Z",
     "iopub.status.idle": "2023-04-20T18:11:07.945597Z",
     "shell.execute_reply": "2023-04-20T18:11:07.944366Z"
    },
    "papermill": {
     "duration": 1.565763,
     "end_time": "2023-04-20T18:11:07.948870",
     "exception": false,
     "start_time": "2023-04-20T18:11:06.383107",
     "status": "completed"
    },
    "tags": []
   },
   "outputs": [],
   "source": [
    "import matplotlib.pyplot as plt\n",
    "import numpy as np\n",
    "import pandas as pd\n",
    "import seaborn as sns\n",
    "from IPython.display import display\n",
    "from sklearn.feature_selection import mutual_info_regression\n",
    "\n",
    "plt.rc(\"figure\", autolayout=True)\n",
    "plt.rc(\n",
    "    \"axes\",\n",
    "    labelweight=\"bold\",\n",
    "    labelsize=\"large\",\n",
    "    titleweight=\"bold\",\n",
    "    titlesize=14,\n",
    "    titlepad=10,\n",
    ")\n",
    "\n",
    "\n",
    "def plot_variance(pca, width=8, dpi=100):\n",
    "    # Create figure\n",
    "    fig, axs = plt.subplots(1, 2)\n",
    "    n = pca.n_components_\n",
    "    grid = np.arange(1, n + 1)\n",
    "    # Explained variance\n",
    "    evr = pca.explained_variance_ratio_\n",
    "    axs[0].bar(grid, evr)\n",
    "    axs[0].set(\n",
    "        xlabel=\"Component\", title=\"% Explained Variance\", ylim=(0.0, 1.0)\n",
    "    )\n",
    "    # Cumulative Variance\n",
    "    cv = np.cumsum(evr)\n",
    "    axs[1].plot(np.r_[0, grid], np.r_[0, cv], \"o-\")\n",
    "    axs[1].set(\n",
    "        xlabel=\"Component\", title=\"% Cumulative Variance\", ylim=(0.0, 1.0)\n",
    "    )\n",
    "    # Set up figure\n",
    "    fig.set(figwidth=8, dpi=100)\n",
    "    return axs\n",
    "\n",
    "def make_mi_scores(X, y, discrete_features):\n",
    "    mi_scores = mutual_info_regression(X, y, discrete_features=discrete_features)\n",
    "    mi_scores = pd.Series(mi_scores, name=\"MI Scores\", index=X.columns)\n",
    "    mi_scores = mi_scores.sort_values(ascending=False)\n",
    "    return mi_scores\n",
    "\n",
    "\n",
    "df = pd.read_csv(\"autos.csv\")"
   ]
  },
  {
   "cell_type": "markdown",
   "id": "9357906e",
   "metadata": {
    "papermill": {
     "duration": 0.004238,
     "end_time": "2023-04-20T18:11:07.957625",
     "exception": false,
     "start_time": "2023-04-20T18:11:07.953387",
     "status": "completed"
    },
    "tags": []
   },
   "source": [
    "📌 Chúng ta đã chọn **bốn đặc trưng** đại diện cho nhiều loại tính chất khác nhau.  \n",
    "\n",
    "✅ Mỗi đặc trưng này đều có **điểm MI cao** (*Mutual Information score*) với biến mục tiêu **`price`** 💰.  \n",
    "✅ Vì các đặc trưng này không cùng đơn vị đo lường, chúng ta sẽ **chuẩn hóa dữ liệu** (*standardization*) trước khi sử dụng. 📏🔄  "
   ]
  },
  {
   "cell_type": "code",
   "execution_count": 22,
   "id": "1e8fb2c0",
   "metadata": {
    "execution": {
     "iopub.execute_input": "2023-04-20T18:11:07.968302Z",
     "iopub.status.busy": "2023-04-20T18:11:07.967898Z",
     "iopub.status.idle": "2023-04-20T18:11:07.987371Z",
     "shell.execute_reply": "2023-04-20T18:11:07.986118Z"
    },
    "papermill": {
     "duration": 0.028271,
     "end_time": "2023-04-20T18:11:07.990250",
     "exception": false,
     "start_time": "2023-04-20T18:11:07.961979",
     "status": "completed"
    },
    "tags": []
   },
   "outputs": [],
   "source": [
    "features = [\"highway_mpg\", \"engine_size\", \"horsepower\", \"curb_weight\"]\n",
    "\n",
    "X = df.copy()\n",
    "y = X.pop('price')\n",
    "X = X.loc[:, features]\n",
    "\n",
    "# Standardize\n",
    "X_scaled = (X - X.mean(axis=0)) / X.std(axis=0)"
   ]
  },
  {
   "cell_type": "markdown",
   "id": "c0e9ea5b",
   "metadata": {
    "papermill": {
     "duration": 0.004328,
     "end_time": "2023-04-20T18:11:07.999140",
     "exception": false,
     "start_time": "2023-04-20T18:11:07.994812",
     "status": "completed"
    },
    "tags": []
   },
   "source": [
    "✅ Bây giờ, chúng ta có thể huấn luyện bộ ước lượng `PCA` của **scikit-learn** để tạo ra các **thành phần chính** (*principal components*).  \n",
    "\n",
    "📊 Dưới đây là một số hàng đầu tiên của tập dữ liệu sau khi được biến đổi bằng PCA:  "
   ]
  },
  {
   "cell_type": "code",
   "execution_count": 23,
   "id": "9c76805b",
   "metadata": {
    "execution": {
     "iopub.execute_input": "2023-04-20T18:11:08.010579Z",
     "iopub.status.busy": "2023-04-20T18:11:08.009885Z",
     "iopub.status.idle": "2023-04-20T18:11:08.056391Z",
     "shell.execute_reply": "2023-04-20T18:11:08.054873Z"
    },
    "papermill": {
     "duration": 0.055448,
     "end_time": "2023-04-20T18:11:08.059146",
     "exception": false,
     "start_time": "2023-04-20T18:11:08.003698",
     "status": "completed"
    },
    "tags": []
   },
   "outputs": [
    {
     "data": {
      "text/html": [
       "<div>\n",
       "<style scoped>\n",
       "    .dataframe tbody tr th:only-of-type {\n",
       "        vertical-align: middle;\n",
       "    }\n",
       "\n",
       "    .dataframe tbody tr th {\n",
       "        vertical-align: top;\n",
       "    }\n",
       "\n",
       "    .dataframe thead th {\n",
       "        text-align: right;\n",
       "    }\n",
       "</style>\n",
       "<table border=\"1\" class=\"dataframe\">\n",
       "  <thead>\n",
       "    <tr style=\"text-align: right;\">\n",
       "      <th></th>\n",
       "      <th>PC1</th>\n",
       "      <th>PC2</th>\n",
       "      <th>PC3</th>\n",
       "      <th>PC4</th>\n",
       "    </tr>\n",
       "  </thead>\n",
       "  <tbody>\n",
       "    <tr>\n",
       "      <th>0</th>\n",
       "      <td>0.382486</td>\n",
       "      <td>-0.400222</td>\n",
       "      <td>0.124122</td>\n",
       "      <td>0.169539</td>\n",
       "    </tr>\n",
       "    <tr>\n",
       "      <th>1</th>\n",
       "      <td>0.382486</td>\n",
       "      <td>-0.400222</td>\n",
       "      <td>0.124122</td>\n",
       "      <td>0.169539</td>\n",
       "    </tr>\n",
       "    <tr>\n",
       "      <th>2</th>\n",
       "      <td>1.550890</td>\n",
       "      <td>-0.107175</td>\n",
       "      <td>0.598361</td>\n",
       "      <td>-0.256081</td>\n",
       "    </tr>\n",
       "    <tr>\n",
       "      <th>3</th>\n",
       "      <td>-0.408859</td>\n",
       "      <td>-0.425947</td>\n",
       "      <td>0.243335</td>\n",
       "      <td>0.013920</td>\n",
       "    </tr>\n",
       "    <tr>\n",
       "      <th>4</th>\n",
       "      <td>1.132749</td>\n",
       "      <td>-0.814565</td>\n",
       "      <td>-0.202885</td>\n",
       "      <td>0.224138</td>\n",
       "    </tr>\n",
       "  </tbody>\n",
       "</table>\n",
       "</div>"
      ],
      "text/plain": [
       "        PC1       PC2       PC3       PC4\n",
       "0  0.382486 -0.400222  0.124122  0.169539\n",
       "1  0.382486 -0.400222  0.124122  0.169539\n",
       "2  1.550890 -0.107175  0.598361 -0.256081\n",
       "3 -0.408859 -0.425947  0.243335  0.013920\n",
       "4  1.132749 -0.814565 -0.202885  0.224138"
      ]
     },
     "execution_count": 23,
     "metadata": {},
     "output_type": "execute_result"
    }
   ],
   "source": [
    "from sklearn.decomposition import PCA\n",
    "\n",
    "# Create principal components\n",
    "pca = PCA()\n",
    "X_pca = pca.fit_transform(X_scaled)\n",
    "\n",
    "# Convert to dataframe\n",
    "component_names = [f\"PC{i+1}\" for i in range(X_pca.shape[1])]\n",
    "X_pca = pd.DataFrame(X_pca, columns=component_names)\n",
    "\n",
    "X_pca.head()"
   ]
  },
  {
   "cell_type": "markdown",
   "id": "25a8dc02",
   "metadata": {
    "papermill": {
     "duration": 0.004496,
     "end_time": "2023-04-20T18:11:08.068511",
     "exception": false,
     "start_time": "2023-04-20T18:11:08.064015",
     "status": "completed"
    },
    "tags": []
   },
   "source": [
    "✅ Sau khi huấn luyện, đối tượng `PCA` sẽ chứa các **loadings** trong thuộc tính `components_`.  \n",
    "\n",
    "📌 (*Thuật ngữ trong PCA không thống nhất giữa các tài liệu. Ở đây, chúng ta gọi các cột đã biến đổi trong `X_pca` là **components**, dù chúng không có tên riêng.*)  \n",
    "\n",
    "📊 Chúng ta sẽ đóng gói các **loadings** vào một **DataFrame** để dễ dàng quan sát.  "
   ]
  },
  {
   "cell_type": "code",
   "execution_count": 24,
   "id": "3d486136",
   "metadata": {
    "execution": {
     "iopub.execute_input": "2023-04-20T18:11:08.080166Z",
     "iopub.status.busy": "2023-04-20T18:11:08.079196Z",
     "iopub.status.idle": "2023-04-20T18:11:08.092818Z",
     "shell.execute_reply": "2023-04-20T18:11:08.091614Z"
    },
    "papermill": {
     "duration": 0.021879,
     "end_time": "2023-04-20T18:11:08.095030",
     "exception": false,
     "start_time": "2023-04-20T18:11:08.073151",
     "status": "completed"
    },
    "tags": []
   },
   "outputs": [
    {
     "data": {
      "text/html": [
       "<div>\n",
       "<style scoped>\n",
       "    .dataframe tbody tr th:only-of-type {\n",
       "        vertical-align: middle;\n",
       "    }\n",
       "\n",
       "    .dataframe tbody tr th {\n",
       "        vertical-align: top;\n",
       "    }\n",
       "\n",
       "    .dataframe thead th {\n",
       "        text-align: right;\n",
       "    }\n",
       "</style>\n",
       "<table border=\"1\" class=\"dataframe\">\n",
       "  <thead>\n",
       "    <tr style=\"text-align: right;\">\n",
       "      <th></th>\n",
       "      <th>PC1</th>\n",
       "      <th>PC2</th>\n",
       "      <th>PC3</th>\n",
       "      <th>PC4</th>\n",
       "    </tr>\n",
       "  </thead>\n",
       "  <tbody>\n",
       "    <tr>\n",
       "      <th>highway_mpg</th>\n",
       "      <td>-0.492347</td>\n",
       "      <td>0.770892</td>\n",
       "      <td>0.070142</td>\n",
       "      <td>-0.397996</td>\n",
       "    </tr>\n",
       "    <tr>\n",
       "      <th>engine_size</th>\n",
       "      <td>0.503859</td>\n",
       "      <td>0.626709</td>\n",
       "      <td>0.019960</td>\n",
       "      <td>0.594107</td>\n",
       "    </tr>\n",
       "    <tr>\n",
       "      <th>horsepower</th>\n",
       "      <td>0.500448</td>\n",
       "      <td>0.013788</td>\n",
       "      <td>0.731093</td>\n",
       "      <td>-0.463534</td>\n",
       "    </tr>\n",
       "    <tr>\n",
       "      <th>curb_weight</th>\n",
       "      <td>0.503262</td>\n",
       "      <td>0.113008</td>\n",
       "      <td>-0.678369</td>\n",
       "      <td>-0.523232</td>\n",
       "    </tr>\n",
       "  </tbody>\n",
       "</table>\n",
       "</div>"
      ],
      "text/plain": [
       "                  PC1       PC2       PC3       PC4\n",
       "highway_mpg -0.492347  0.770892  0.070142 -0.397996\n",
       "engine_size  0.503859  0.626709  0.019960  0.594107\n",
       "horsepower   0.500448  0.013788  0.731093 -0.463534\n",
       "curb_weight  0.503262  0.113008 -0.678369 -0.523232"
      ]
     },
     "execution_count": 24,
     "metadata": {},
     "output_type": "execute_result"
    }
   ],
   "source": [
    "loadings = pd.DataFrame(\n",
    "    pca.components_.T,  # transpose the matrix of loadings\n",
    "    columns=component_names,  # so the columns are the principal components\n",
    "    index=X.columns,  # and the rows are the original features\n",
    ")\n",
    "loadings"
   ]
  },
  {
   "cell_type": "markdown",
   "id": "597ee685",
   "metadata": {
    "papermill": {
     "duration": 0.004647,
     "end_time": "2023-04-20T18:11:08.104623",
     "exception": false,
     "start_time": "2023-04-20T18:11:08.099976",
     "status": "completed"
    },
    "tags": []
   },
   "source": [
    "📌 Nhớ rằng **dấu và độ lớn của các loadings** trong một thành phần cho chúng ta biết **loại biến thiên** mà nó nắm bắt được.  \n",
    "\n",
    "✅ **Thành phần đầu tiên (`PC1`)** thể hiện sự đối lập giữa:  \n",
    "- 🚗 **Xe lớn, mạnh mẽ, tiêu hao nhiên liệu cao** ⛽  \n",
    "- 🚙 **Xe nhỏ, tiết kiệm nhiên liệu tốt** 🌱  \n",
    "\n",
    "📊 Chúng ta có thể gọi đây là **trục \"Luxury/Economy\"** 💎↔️💰.  \n",
    "\n",
    "📌 Hình tiếp theo cho thấy rằng **bốn đặc trưng** mà chúng ta đã chọn chủ yếu biến thiên dọc theo **trục Luxury/Economy**.  "
   ]
  },
  {
   "cell_type": "code",
   "execution_count": 25,
   "id": "7bc20422",
   "metadata": {
    "execution": {
     "iopub.execute_input": "2023-04-20T18:11:08.116442Z",
     "iopub.status.busy": "2023-04-20T18:11:08.115576Z",
     "iopub.status.idle": "2023-04-20T18:11:08.580668Z",
     "shell.execute_reply": "2023-04-20T18:11:08.579379Z"
    },
    "papermill": {
     "duration": 0.474127,
     "end_time": "2023-04-20T18:11:08.583519",
     "exception": false,
     "start_time": "2023-04-20T18:11:08.109392",
     "status": "completed"
    },
    "tags": []
   },
   "outputs": [
    {
     "data": {
      "image/png": "[encoded data removed]",
      "text/plain": [
       "<Figure size 800x480 with 2 Axes>"
      ]
     },
     "metadata": {},
     "output_type": "display_data"
    }
   ],
   "source": [
    "# Look at explained variance\n",
    "plot_variance(pca);"
   ]
  },
  {
   "cell_type": "markdown",
   "id": "e8ca095a",
   "metadata": {
    "papermill": {
     "duration": 0.005327,
     "end_time": "2023-04-20T18:11:08.594444",
     "exception": false,
     "start_time": "2023-04-20T18:11:08.589117",
     "status": "completed"
    },
    "tags": []
   },
   "source": [
    "📊 **Phân tích MI scores của các thành phần PCA**  \n",
    "\n",
    "✅ Không có gì ngạc nhiên khi **`PC1` có độ tương quan thông tin cao** (*high MI score*),  \n",
    "vì nó nắm bắt **biến thiên chính Luxury/Economy** 💎↔️💰.  \n",
    "\n",
    "✅ Tuy nhiên, **các thành phần còn lại** dù có phương sai nhỏ, vẫn thể hiện mối quan hệ đáng kể với **`price`** 💰.  \n",
    "\n",
    "📌 Việc phân tích sâu hơn các thành phần này có thể giúp khám phá những **mối quan hệ tiềm ẩn khác**,  \n",
    "mà trục Luxury/Economy chưa thể hiện đầy đủ. 🔍📈  "
   ]
  },
  {
   "cell_type": "code",
   "execution_count": 26,
   "id": "35f25247",
   "metadata": {
    "execution": {
     "iopub.execute_input": "2023-04-20T18:11:08.607981Z",
     "iopub.status.busy": "2023-04-20T18:11:08.607113Z",
     "iopub.status.idle": "2023-04-20T18:11:08.629098Z",
     "shell.execute_reply": "2023-04-20T18:11:08.627859Z"
    },
    "papermill": {
     "duration": 0.031662,
     "end_time": "2023-04-20T18:11:08.631618",
     "exception": false,
     "start_time": "2023-04-20T18:11:08.599956",
     "status": "completed"
    },
    "tags": []
   },
   "outputs": [
    {
     "data": {
      "text/plain": [
       "PC1    1.013824\n",
       "PC2    0.378706\n",
       "PC3    0.306244\n",
       "PC4    0.204447\n",
       "Name: MI Scores, dtype: float64"
      ]
     },
     "execution_count": 26,
     "metadata": {},
     "output_type": "execute_result"
    }
   ],
   "source": [
    "mi_scores = make_mi_scores(X_pca, y, discrete_features=False)\n",
    "mi_scores"
   ]
  },
  {
   "cell_type": "markdown",
   "id": "087b0b4a",
   "metadata": {
    "papermill": {
     "duration": 0.005859,
     "end_time": "2023-04-20T18:11:08.646337",
     "exception": false,
     "start_time": "2023-04-20T18:11:08.640478",
     "status": "completed"
    },
    "tags": []
   },
   "source": [
    "📌 **Thành phần thứ ba (`PC3`)** thể hiện sự đối lập giữa:  \n",
    "\n",
    "- 🚗 **`horsepower` cao** ⚡ → Xe thể thao 🏎  \n",
    "- 🚙 **`curb_weight` cao** ⚖ → Xe wagon 🚐  \n",
    "\n",
    "✅ Có vẻ như `PC3` phân tách giữa **xe thể thao** 🏎 và **xe wagon** 🚐 một cách rõ ràng.  "
   ]
  },
  {
   "cell_type": "code",
   "execution_count": 27,
   "id": "8472daef",
   "metadata": {
    "execution": {
     "iopub.execute_input": "2023-04-20T18:11:08.661554Z",
     "iopub.status.busy": "2023-04-20T18:11:08.660858Z",
     "iopub.status.idle": "2023-04-20T18:11:08.677888Z",
     "shell.execute_reply": "2023-04-20T18:11:08.676585Z"
    },
    "papermill": {
     "duration": 0.026844,
     "end_time": "2023-04-20T18:11:08.680283",
     "exception": false,
     "start_time": "2023-04-20T18:11:08.653439",
     "status": "completed"
    },
    "tags": []
   },
   "outputs": [
    {
     "data": {
      "text/html": [
       "<div>\n",
       "<style scoped>\n",
       "    .dataframe tbody tr th:only-of-type {\n",
       "        vertical-align: middle;\n",
       "    }\n",
       "\n",
       "    .dataframe tbody tr th {\n",
       "        vertical-align: top;\n",
       "    }\n",
       "\n",
       "    .dataframe thead th {\n",
       "        text-align: right;\n",
       "    }\n",
       "</style>\n",
       "<table border=\"1\" class=\"dataframe\">\n",
       "  <thead>\n",
       "    <tr style=\"text-align: right;\">\n",
       "      <th></th>\n",
       "      <th>make</th>\n",
       "      <th>body_style</th>\n",
       "      <th>horsepower</th>\n",
       "      <th>curb_weight</th>\n",
       "    </tr>\n",
       "  </thead>\n",
       "  <tbody>\n",
       "    <tr>\n",
       "      <th>118</th>\n",
       "      <td>porsche</td>\n",
       "      <td>hardtop</td>\n",
       "      <td>207</td>\n",
       "      <td>2756</td>\n",
       "    </tr>\n",
       "    <tr>\n",
       "      <th>117</th>\n",
       "      <td>porsche</td>\n",
       "      <td>hardtop</td>\n",
       "      <td>207</td>\n",
       "      <td>2756</td>\n",
       "    </tr>\n",
       "    <tr>\n",
       "      <th>119</th>\n",
       "      <td>porsche</td>\n",
       "      <td>convertible</td>\n",
       "      <td>207</td>\n",
       "      <td>2800</td>\n",
       "    </tr>\n",
       "    <tr>\n",
       "      <th>45</th>\n",
       "      <td>jaguar</td>\n",
       "      <td>sedan</td>\n",
       "      <td>262</td>\n",
       "      <td>3950</td>\n",
       "    </tr>\n",
       "    <tr>\n",
       "      <th>96</th>\n",
       "      <td>nissan</td>\n",
       "      <td>hatchback</td>\n",
       "      <td>200</td>\n",
       "      <td>3139</td>\n",
       "    </tr>\n",
       "    <tr>\n",
       "      <th>...</th>\n",
       "      <td>...</td>\n",
       "      <td>...</td>\n",
       "      <td>...</td>\n",
       "      <td>...</td>\n",
       "    </tr>\n",
       "    <tr>\n",
       "      <th>59</th>\n",
       "      <td>mercedes-benz</td>\n",
       "      <td>wagon</td>\n",
       "      <td>123</td>\n",
       "      <td>3750</td>\n",
       "    </tr>\n",
       "    <tr>\n",
       "      <th>61</th>\n",
       "      <td>mercedes-benz</td>\n",
       "      <td>sedan</td>\n",
       "      <td>123</td>\n",
       "      <td>3770</td>\n",
       "    </tr>\n",
       "    <tr>\n",
       "      <th>101</th>\n",
       "      <td>peugot</td>\n",
       "      <td>wagon</td>\n",
       "      <td>95</td>\n",
       "      <td>3430</td>\n",
       "    </tr>\n",
       "    <tr>\n",
       "      <th>105</th>\n",
       "      <td>peugot</td>\n",
       "      <td>wagon</td>\n",
       "      <td>95</td>\n",
       "      <td>3485</td>\n",
       "    </tr>\n",
       "    <tr>\n",
       "      <th>143</th>\n",
       "      <td>toyota</td>\n",
       "      <td>wagon</td>\n",
       "      <td>62</td>\n",
       "      <td>3110</td>\n",
       "    </tr>\n",
       "  </tbody>\n",
       "</table>\n",
       "<p>193 rows × 4 columns</p>\n",
       "</div>"
      ],
      "text/plain": [
       "              make   body_style  horsepower  curb_weight\n",
       "118        porsche      hardtop         207         2756\n",
       "117        porsche      hardtop         207         2756\n",
       "119        porsche  convertible         207         2800\n",
       "45          jaguar        sedan         262         3950\n",
       "96          nissan    hatchback         200         3139\n",
       "..             ...          ...         ...          ...\n",
       "59   mercedes-benz        wagon         123         3750\n",
       "61   mercedes-benz        sedan         123         3770\n",
       "101         peugot        wagon          95         3430\n",
       "105         peugot        wagon          95         3485\n",
       "143         toyota        wagon          62         3110\n",
       "\n",
       "[193 rows x 4 columns]"
      ]
     },
     "execution_count": 27,
     "metadata": {},
     "output_type": "execute_result"
    }
   ],
   "source": [
    "# Show dataframe sorted by PC3\n",
    "idx = X_pca[\"PC3\"].sort_values(ascending=False).index\n",
    "cols = [\"make\", \"body_style\", \"horsepower\", \"curb_weight\"]\n",
    "df.loc[idx, cols]"
   ]
  },
  {
   "cell_type": "markdown",
   "id": "c5370c5e",
   "metadata": {
    "papermill": {
     "duration": 0.006081,
     "end_time": "2023-04-20T18:11:08.692649",
     "exception": false,
     "start_time": "2023-04-20T18:11:08.686568",
     "status": "completed"
    },
    "tags": []
   },
   "source": [
    "📌 Để thể hiện rõ sự đối lập này, chúng ta sẽ tạo một **đặc trưng tỷ lệ mới**:  "
   ]
  },
  {
   "cell_type": "code",
   "execution_count": 28,
   "id": "e7cd52c6",
   "metadata": {
    "execution": {
     "iopub.execute_input": "2023-04-20T18:11:08.707436Z",
     "iopub.status.busy": "2023-04-20T18:11:08.706705Z",
     "iopub.status.idle": "2023-04-20T18:11:09.236306Z",
     "shell.execute_reply": "2023-04-20T18:11:09.234975Z"
    },
    "papermill": {
     "duration": 0.540323,
     "end_time": "2023-04-20T18:11:09.239266",
     "exception": false,
     "start_time": "2023-04-20T18:11:08.698943",
     "status": "completed"
    },
    "tags": []
   },
   "outputs": [
    {
     "data": {
      "image/png": "[encoded data removed]",
      "text/plain": [
       "<Figure size 640x480 with 1 Axes>"
      ]
     },
     "metadata": {},
     "output_type": "display_data"
    }
   ],
   "source": [
    "df[\"sports_or_wagon\"] = X.curb_weight / X.horsepower\n",
    "sns.regplot(x=\"sports_or_wagon\", y='price', data=df, order=2);\n",
    "plt.grid(True, linestyle='--', alpha=0.6)"
   ]
  },
  {
   "cell_type": "markdown",
   "id": "8ab0ef6e",
   "metadata": {
    "papermill": {
     "duration": 0.007006,
     "end_time": "2023-04-20T18:11:09.254089",
     "exception": false,
     "start_time": "2023-04-20T18:11:09.247083",
     "status": "completed"
    },
    "tags": []
   },
   "source": [
    "# 🔄 **Đến lượt bạn!**  \n",
    "\n",
    "📌 [**Cải thiện tập đặc trưng của bạn**](https://www.kaggle.com/kernels/fork/14393921)  \n",
    "bằng cách **phân tách biến thiên** trong tập dữ liệu *Ames Housing* 🏡  \n",
    "và sử dụng **thành phần chính** để phát hiện **điểm ngoại lai**! 🚀  "
   ]
  },
  {
   "cell_type": "markdown",
   "id": "1a9641eb",
   "metadata": {
    "papermill": {
     "duration": 0.006923,
     "end_time": "2023-04-20T18:11:09.268549",
     "exception": false,
     "start_time": "2023-04-20T18:11:09.261626",
     "status": "completed"
    },
    "tags": []
   },
   "source": [
    "---\n",
    "\n",
    "\n",
    "\n",
    "\n",
    "*Have questions or comments? Visit the [course discussion forum](https://www.kaggle.com/learn/feature-engineering/discussion) to chat with other learners.*"
   ]
  }
 ],
 "metadata": {
  "jupytext": {
   "cell_metadata_filter": "-all",
   "formats": "ipynb"
  },
  "kernelspec": {
   "display_name": "Python 3",
   "language": "python",
   "name": "python3"
  },
  "language_info": {
   "codemirror_mode": {
    "name": "ipython",
    "version": 3
   },
   "file_extension": ".py",
   "mimetype": "text/x-python",
   "name": "python",
   "nbconvert_exporter": "python",
   "pygments_lexer": "ipython3",
   "version": "3.13.2"
  },
  "papermill": {
   "default_parameters": {},
   "duration": 14.609608,
   "end_time": "2023-04-20T18:11:10.098566",
   "environment_variables": {},
   "exception": null,
   "input_path": "__notebook__.ipynb",
   "output_path": "__notebook__.ipynb",
   "parameters": {},
   "start_time": "2023-04-20T18:10:55.488958",
   "version": "2.4.0"
  }
 },
 "nbformat": 4,
 "nbformat_minor": 5
}
