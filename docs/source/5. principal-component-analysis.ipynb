{
 "cells": [
  {
   "cell_type": "markdown",
   "id": "2d1f0cdb",
   "metadata": {
    "papermill": {
     "duration": 0.005552,
     "end_time": "2023-04-20T18:11:06.362153",
     "exception": false,
     "start_time": "2023-04-20T18:11:06.356601",
     "status": "completed"
    },
    "tags": []
   },
   "source": [
    "# 🚀 Giới thiệu #\n",
    "\n",
    "Trong bài học trước, chúng ta đã xem xét phương pháp đầu tiên dựa trên mô hình để kỹ thuật hóa đặc trưng: **phân cụm (clustering)**. Trong bài học này, chúng ta sẽ xem xét phương pháp tiếp theo: **phân tích thành phần chính (Principal Component Analysis - PCA)**. \n",
    "\n",
    "Cũng giống như **phân cụm** là một cách phân vùng tập dữ liệu dựa trên sự gần gũi, bạn có thể coi **PCA** như một cách phân vùng sự biến thiên trong dữ liệu. **PCA là một công cụ tuyệt vời giúp bạn khám phá các mối quan hệ quan trọng trong dữ liệu** và cũng có thể được sử dụng để tạo ra các đặc trưng có tính thông tin hơn.\n",
    "\n",
    "> 📌 *Lưu ý kỹ thuật:* PCA thường được áp dụng cho dữ liệu **đã được chuẩn hóa** ([standardized](https://www.kaggle.com/alexisbcook/scaling-and-normalization)). Khi dữ liệu được chuẩn hóa, thuật ngữ *\"biến thiên\"* (variation) có nghĩa là *\"tương quan\"* (correlation). Trong khi đó, nếu dữ liệu chưa được chuẩn hóa, *\"biến thiên\"* có nghĩa là *\"hiệp phương sai\"* (covariance). Trong khóa học này, **tất cả dữ liệu sẽ được chuẩn hóa trước khi áp dụng PCA**.\n",
    "\n",
    "---\n",
    "\n",
    "# 🎯 Phân tích thành phần chính (Principal Component Analysis - PCA) #\n",
    "\n",
    "Tập dữ liệu [*Abalone*](https://www.kaggle.com/rodolfomendes/abalone-dataset) chứa các phép đo vật lý được thu thập từ hàng nghìn con **bào ngư Tasmania** (abalone là một loài sinh vật biển giống như ngao hoặc hàu). \n",
    "\n",
    "Chúng ta sẽ chỉ xem xét hai đặc trưng: **'Height'** (chiều cao) và **'Diameter'** (đường kính) của vỏ bào ngư.\n",
    "\n",
    "Bạn có thể hình dung rằng trong tập dữ liệu này có những **\"trục biến thiên\"** mô tả cách mà các con bào ngư có xu hướng khác nhau. **Các trục này xuất hiện dưới dạng các đường vuông góc chạy dọc theo các chiều tự nhiên của dữ liệu, mỗi trục tương ứng với một đặc trưng ban đầu.**\n",
    "\n",
    "<figure style=\"padding: 1em;\">\n",
    "<img src=\"../_static/images/rr8NCDy.png\" width=300 alt=\"\">\n",
    "<figcaption style=\"text-align: center; font-style: italic\"><center>\n",
    "</center></figcaption>\n",
    "</figure>"
   ]
  },
  {
   "cell_type": "markdown",
   "id": "36280605",
   "metadata": {
    "papermill": {
     "duration": 0.00396,
     "end_time": "2023-04-20T18:11:06.370683",
     "exception": false,
     "start_time": "2023-04-20T18:11:06.366723",
     "status": "completed"
    },
    "tags": []
   },
   "source": [
    "Thường thì chúng ta có thể đặt tên cho các trục biến thiên này. Trục dài hơn có thể được gọi là thành phần \"Kích thước\" (Size): chiều cao nhỏ và đường kính nhỏ (góc dưới bên trái) so với chiều cao lớn và đường kính lớn (góc trên bên phải). Trục ngắn hơn có thể được gọi là thành phần \"Hình dạng\" (Shape): chiều cao nhỏ và đường kính lớn (hình dẹt) so với chiều cao lớn và đường kính nhỏ (hình tròn).\n",
    "\n",
    "Lưu ý rằng thay vì mô tả bào ngư bằng `'Chiều cao'` (`Height`) và `'Đường kính'` (`Diameter`), chúng ta hoàn toàn có thể mô tả chúng bằng `'Kích thước'` (`Size`) và `'Hình dạng'` (`Shape`). Thực tế, đây chính là toàn bộ ý tưởng của PCA: thay vì mô tả dữ liệu bằng các đặc trưng ban đầu, chúng ta mô tả nó bằng các trục biến thiên của nó. Các trục biến thiên này trở thành các đặc trưng mới.\n",
    "\n",
    "<figure style=\"padding: 1em;\">\n",
    "<img src=\"../_static/images/XQlRD1q.png\" width=600 alt=\"\">\n",
    "<figcaption style=\"text-align: center; font-style: italic\"><center>Các thành phần chính trở thành các đặc trưng mới bằng cách xoay tập dữ liệu trong không gian đặc trưng.</center></figcaption>\n",
    "</figure>\n",
    "\n",
    "Các đặc trưng mới mà PCA tạo ra thực chất chỉ là các tổ hợp tuyến tính (tổng có trọng số) của các đặc trưng ban đầu:\n",
    "\n",
    "```python\n",
    "df[\"Size\"] = 0.707 * X[\"Height\"] + 0.707 * X[\"Diameter\"]\n",
    "df[\"Shape\"] = 0.707 * X[\"Height\"] - 0.707 * X[\"Diameter\"]\n",
    "```\n",
    "\n",
    "Các đặc trưng mới này được gọi là **các thành phần chính** (principal components) của dữ liệu. Bản thân các trọng số được gọi là **hệ số tải** (loadings). Số lượng thành phần chính sẽ bằng số lượng đặc trưng trong tập dữ liệu ban đầu: nếu chúng ta sử dụng mười đặc trưng thay vì hai, chúng ta sẽ có mười thành phần.\n",
    "\n",
    "Hệ số tải của một thành phần cho chúng ta biết sự biến thiên mà nó thể hiện thông qua dấu và độ lớn của các trọng số:\n",
    "\n",
    "| Đặc trưng \\ Thành phần | Kích thước (PC1) | Hình dạng (PC2) |\n",
    "|------------------------|------------------|------------------|\n",
    "| Chiều cao             | 0.707            | 0.707            |\n",
    "| Đường kính            | 0.707            | -0.707           |"
   ]
  },
  {
   "cell_type": "markdown",
   "id": "5fbc92f3",
   "metadata": {
    "papermill": {
     "duration": 0.004043,
     "end_time": "2023-04-20T18:11:06.378945",
     "exception": false,
     "start_time": "2023-04-20T18:11:06.374902",
     "status": "completed"
    },
    "tags": []
   },
   "source": [
    "Bảng hệ số tải này cho chúng ta biết rằng trong thành phần `Kích thước`, `Chiều cao` và `Đường kính` thay đổi theo cùng một hướng (cùng dấu), nhưng trong thành phần `Hình dạng`, chúng thay đổi theo hướng ngược nhau (dấu trái ngược). Trong mỗi thành phần, các hệ số tải có độ lớn như nhau, do đó các đặc trưng đóng góp như nhau trong cả hai thành phần.\n",
    "\n",
    "PCA cũng cho chúng ta biết *lượng* biến thiên trong mỗi thành phần. Từ hình minh họa, có thể thấy rằng có nhiều biến thiên hơn dọc theo thành phần `Kích thước` so với thành phần `Hình dạng`. PCA làm rõ điều này thông qua **phần trăm phương sai được giải thích** của mỗi thành phần.\n",
    "\n",
    "<figure style=\"padding: 1em;\">\n",
    "<img src=\"https://storage.googleapis.com/kaggle-media/learn/images/xWTvqDA.png\" width=600, alt=\"\">\n",
    "<figcaption style=\"textalign: center; font-style: italic\"><center>Kích thước chiếm khoảng 96% và Hình dạng chiếm khoảng 4% phương sai giữa Chiều cao và Đường kính.</center></figcaption>\n",
    "</figure>\n",
    "\n",
    "Thành phần `Kích thước` nắm bắt phần lớn sự biến thiên giữa `Chiều cao` và `Đường kính`. Tuy nhiên, điều quan trọng cần nhớ là lượng phương sai trong một thành phần không nhất thiết phản ánh độ tốt của nó như một yếu tố dự đoán: điều đó còn phụ thuộc vào mục tiêu mà bạn đang cố gắng dự đoán.\n",
    "\n",
    "# PCA trong Kỹ thuật Đặc trưng #\n",
    "\n",
    "Có hai cách sử dụng PCA trong kỹ thuật đặc trưng.\n",
    "\n",
    "Cách thứ nhất là sử dụng nó như một phương pháp mô tả. Vì các thành phần cho chúng ta biết về sự biến thiên, bạn có thể tính điểm MI (Mutual Information) cho các thành phần và xác định loại biến thiên nào dự đoán tốt nhất mục tiêu của bạn. Điều này có thể gợi ý cách tạo ra các đặc trưng mới — chẳng hạn như tạo một tích số giữa `'Chiều cao'` và `'Đường kính'` nếu `'Kích thước'` quan trọng, hoặc tạo một tỷ số giữa `'Chiều cao'` và `'Đường kính'` nếu `'Hình dạng'` quan trọng. Bạn thậm chí có thể thử phân cụm dựa trên một hoặc nhiều thành phần có điểm cao.\n",
    "\n",
    "Cách thứ hai là sử dụng trực tiếp các thành phần làm đặc trưng. Vì các thành phần phơi bày cấu trúc biến thiên của dữ liệu một cách trực tiếp, chúng thường có thể chứa nhiều thông tin hơn so với các đặc trưng gốc. Một số trường hợp sử dụng bao gồm:\n",
    "- **Giảm chiều dữ liệu**: Khi các đặc trưng của bạn có tính dư thừa cao (*đa cộng tuyến* - multicollinearity), PCA sẽ phân tách sự dư thừa này vào một hoặc nhiều thành phần có phương sai gần bằng không, mà bạn có thể loại bỏ do chúng chứa rất ít hoặc không có thông tin.\n",
    "- **Phát hiện bất thường**: Sự biến thiên bất thường, không rõ ràng từ các đặc trưng gốc, thường sẽ xuất hiện trong các thành phần có phương sai thấp. Các thành phần này có thể rất hữu ích trong các bài toán phát hiện bất thường hoặc điểm ngoại lai.\n",
    "- **Giảm nhiễu**: Một tập hợp các cảm biến đo lường thường có chung một mức nhiễu nền. PCA đôi khi có thể thu thập tín hiệu (có thông tin) vào một số ít đặc trưng, trong khi để nhiễu nằm riêng lẻ, do đó cải thiện tỷ lệ tín hiệu trên nhiễu.\n",
    "- **Loại bỏ tương quan**: Một số thuật toán học máy gặp khó khăn khi làm việc với các đặc trưng có mức tương quan cao. PCA chuyển đổi các đặc trưng có tương quan thành các thành phần không tương quan, giúp thuật toán làm việc dễ dàng hơn.\n",
    "\n",
    "PCA thực chất cung cấp cho bạn quyền truy cập trực tiếp vào cấu trúc tương quan của dữ liệu. Bạn chắc chắn sẽ nghĩ ra những ứng dụng riêng của mình!\n",
    "\n",
    "<blockquote style=\"margin-right:auto; margin-left:auto; background-color: #ebf9ff; padding: 1em; margin:24px;\">\n",
    "<strong>Thực hành tốt nhất khi sử dụng PCA</strong><br>\n",
    "Có một số điều cần lưu ý khi áp dụng PCA:\n",
    "<ul>\n",
    "<li> PCA chỉ hoạt động với các đặc trưng dạng số, chẳng hạn như số đo liên tục hoặc số đếm.\n",
    "<li> PCA nhạy cảm với tỷ lệ thang đo. Thông thường, bạn nên chuẩn hóa dữ liệu trước khi áp dụng PCA, trừ khi có lý do chính đáng để không làm vậy.\n",
    "<li> Hãy cân nhắc loại bỏ hoặc giới hạn các điểm ngoại lai, vì chúng có thể gây ảnh hưởng đáng kể đến kết quả.\n",
    "</ul>\n",
    "</blockquote>\n",
    "\n",
    "# Ví dụ - Ô tô năm 1985 #\n",
    "\n",
    "Trong ví dụ này, chúng ta sẽ quay lại tập dữ liệu [*Ô tô*](https://www.kaggle.com/toramky/automobile-dataset) và áp dụng PCA, sử dụng nó như một kỹ thuật mô tả để khám phá các đặc trưng. Chúng ta sẽ xem xét các trường hợp sử dụng khác trong bài tập.\n",
    "\n",
    "Cell ẩn này tải dữ liệu và định nghĩa các hàm `plot_variance` và `make_mi_scores`."
   ]
  },
  {
   "cell_type": "code",
   "execution_count": 5,
   "id": "528e9fea",
   "metadata": {
    "_kg_hide-input": true,
    "execution": {
     "iopub.execute_input": "2023-04-20T18:11:06.390124Z",
     "iopub.status.busy": "2023-04-20T18:11:06.388891Z",
     "iopub.status.idle": "2023-04-20T18:11:07.945597Z",
     "shell.execute_reply": "2023-04-20T18:11:07.944366Z"
    },
    "papermill": {
     "duration": 1.565763,
     "end_time": "2023-04-20T18:11:07.948870",
     "exception": false,
     "start_time": "2023-04-20T18:11:06.383107",
     "status": "completed"
    },
    "tags": []
   },
   "outputs": [],
   "source": [
    "import matplotlib.pyplot as plt\n",
    "import numpy as np\n",
    "import pandas as pd\n",
    "import seaborn as sns\n",
    "from IPython.display import display\n",
    "from sklearn.feature_selection import mutual_info_regression\n",
    "\n",
    "plt.rc(\"figure\", autolayout=True)\n",
    "plt.rc(\n",
    "    \"axes\",\n",
    "    labelweight=\"bold\",\n",
    "    labelsize=\"large\",\n",
    "    titleweight=\"bold\",\n",
    "    titlesize=14,\n",
    "    titlepad=10,\n",
    ")\n",
    "\n",
    "\n",
    "def plot_variance(pca, width=8, dpi=100):\n",
    "    # Create figure\n",
    "    fig, axs = plt.subplots(1, 2)\n",
    "    n = pca.n_components_\n",
    "    grid = np.arange(1, n + 1)\n",
    "    # Explained variance\n",
    "    evr = pca.explained_variance_ratio_\n",
    "    axs[0].bar(grid, evr)\n",
    "    axs[0].set(\n",
    "        xlabel=\"Component\", title=\"% Explained Variance\", ylim=(0.0, 1.0)\n",
    "    )\n",
    "    # Cumulative Variance\n",
    "    cv = np.cumsum(evr)\n",
    "    axs[1].plot(np.r_[0, grid], np.r_[0, cv], \"o-\")\n",
    "    axs[1].set(\n",
    "        xlabel=\"Component\", title=\"% Cumulative Variance\", ylim=(0.0, 1.0)\n",
    "    )\n",
    "    # Set up figure\n",
    "    fig.set(figwidth=8, dpi=100)\n",
    "    return axs\n",
    "\n",
    "def make_mi_scores(X, y, discrete_features):\n",
    "    mi_scores = mutual_info_regression(X, y, discrete_features=discrete_features)\n",
    "    mi_scores = pd.Series(mi_scores, name=\"MI Scores\", index=X.columns)\n",
    "    mi_scores = mi_scores.sort_values(ascending=False)\n",
    "    return mi_scores\n",
    "\n",
    "\n",
    "df = pd.read_csv(\"autos.csv\")"
   ]
  },
  {
   "cell_type": "markdown",
   "id": "9357906e",
   "metadata": {
    "papermill": {
     "duration": 0.004238,
     "end_time": "2023-04-20T18:11:07.957625",
     "exception": false,
     "start_time": "2023-04-20T18:11:07.953387",
     "status": "completed"
    },
    "tags": []
   },
   "source": [
    "Chúng tôi đã chọn bốn đặc trưng bao quát một loạt các tính chất. Mỗi đặc trưng này cũng có điểm MI (Mutual Information) cao với mục tiêu, `price`. Chúng tôi sẽ chuẩn hóa dữ liệu vì các đặc trưng này không có cùng một thang đo tự nhiên."
   ]
  },
  {
   "cell_type": "code",
   "execution_count": 6,
   "id": "1e8fb2c0",
   "metadata": {
    "execution": {
     "iopub.execute_input": "2023-04-20T18:11:07.968302Z",
     "iopub.status.busy": "2023-04-20T18:11:07.967898Z",
     "iopub.status.idle": "2023-04-20T18:11:07.987371Z",
     "shell.execute_reply": "2023-04-20T18:11:07.986118Z"
    },
    "papermill": {
     "duration": 0.028271,
     "end_time": "2023-04-20T18:11:07.990250",
     "exception": false,
     "start_time": "2023-04-20T18:11:07.961979",
     "status": "completed"
    },
    "tags": []
   },
   "outputs": [],
   "source": [
    "features = [\"highway_mpg\", \"engine_size\", \"horsepower\", \"curb_weight\"]\n",
    "\n",
    "X = df.copy()\n",
    "y = X.pop('price')\n",
    "X = X.loc[:, features]\n",
    "\n",
    "# Standardize\n",
    "X_scaled = (X - X.mean(axis=0)) / X.std(axis=0)"
   ]
  },
  {
   "cell_type": "markdown",
   "id": "c0e9ea5b",
   "metadata": {
    "papermill": {
     "duration": 0.004328,
     "end_time": "2023-04-20T18:11:07.999140",
     "exception": false,
     "start_time": "2023-04-20T18:11:07.994812",
     "status": "completed"
    },
    "tags": []
   },
   "source": [
    "Bây giờ, chúng ta có thể huấn luyện bộ ước lượng `PCA` của scikit-learn và tạo các thành phần chính. Dưới đây là vài hàng đầu tiên của tập dữ liệu đã được biến đổi."
   ]
  },
  {
   "cell_type": "code",
   "execution_count": 7,
   "id": "9c76805b",
   "metadata": {
    "execution": {
     "iopub.execute_input": "2023-04-20T18:11:08.010579Z",
     "iopub.status.busy": "2023-04-20T18:11:08.009885Z",
     "iopub.status.idle": "2023-04-20T18:11:08.056391Z",
     "shell.execute_reply": "2023-04-20T18:11:08.054873Z"
    },
    "papermill": {
     "duration": 0.055448,
     "end_time": "2023-04-20T18:11:08.059146",
     "exception": false,
     "start_time": "2023-04-20T18:11:08.003698",
     "status": "completed"
    },
    "tags": []
   },
   "outputs": [
    {
     "data": {
      "text/html": [
       "<div>\n",
       "<style scoped>\n",
       "    .dataframe tbody tr th:only-of-type {\n",
       "        vertical-align: middle;\n",
       "    }\n",
       "\n",
       "    .dataframe tbody tr th {\n",
       "        vertical-align: top;\n",
       "    }\n",
       "\n",
       "    .dataframe thead th {\n",
       "        text-align: right;\n",
       "    }\n",
       "</style>\n",
       "<table border=\"1\" class=\"dataframe\">\n",
       "  <thead>\n",
       "    <tr style=\"text-align: right;\">\n",
       "      <th></th>\n",
       "      <th>PC1</th>\n",
       "      <th>PC2</th>\n",
       "      <th>PC3</th>\n",
       "      <th>PC4</th>\n",
       "    </tr>\n",
       "  </thead>\n",
       "  <tbody>\n",
       "    <tr>\n",
       "      <th>0</th>\n",
       "      <td>0.382486</td>\n",
       "      <td>-0.400222</td>\n",
       "      <td>0.124122</td>\n",
       "      <td>0.169539</td>\n",
       "    </tr>\n",
       "    <tr>\n",
       "      <th>1</th>\n",
       "      <td>0.382486</td>\n",
       "      <td>-0.400222</td>\n",
       "      <td>0.124122</td>\n",
       "      <td>0.169539</td>\n",
       "    </tr>\n",
       "    <tr>\n",
       "      <th>2</th>\n",
       "      <td>1.550890</td>\n",
       "      <td>-0.107175</td>\n",
       "      <td>0.598361</td>\n",
       "      <td>-0.256081</td>\n",
       "    </tr>\n",
       "    <tr>\n",
       "      <th>3</th>\n",
       "      <td>-0.408859</td>\n",
       "      <td>-0.425947</td>\n",
       "      <td>0.243335</td>\n",
       "      <td>0.013920</td>\n",
       "    </tr>\n",
       "    <tr>\n",
       "      <th>4</th>\n",
       "      <td>1.132749</td>\n",
       "      <td>-0.814565</td>\n",
       "      <td>-0.202885</td>\n",
       "      <td>0.224138</td>\n",
       "    </tr>\n",
       "  </tbody>\n",
       "</table>\n",
       "</div>"
      ],
      "text/plain": [
       "        PC1       PC2       PC3       PC4\n",
       "0  0.382486 -0.400222  0.124122  0.169539\n",
       "1  0.382486 -0.400222  0.124122  0.169539\n",
       "2  1.550890 -0.107175  0.598361 -0.256081\n",
       "3 -0.408859 -0.425947  0.243335  0.013920\n",
       "4  1.132749 -0.814565 -0.202885  0.224138"
      ]
     },
     "execution_count": 7,
     "metadata": {},
     "output_type": "execute_result"
    }
   ],
   "source": [
    "from sklearn.decomposition import PCA\n",
    "\n",
    "# Create principal components\n",
    "pca = PCA()\n",
    "X_pca = pca.fit_transform(X_scaled)\n",
    "\n",
    "# Convert to dataframe\n",
    "component_names = [f\"PC{i+1}\" for i in range(X_pca.shape[1])]\n",
    "X_pca = pd.DataFrame(X_pca, columns=component_names)\n",
    "\n",
    "X_pca.head()"
   ]
  },
  {
   "cell_type": "markdown",
   "id": "25a8dc02",
   "metadata": {
    "papermill": {
     "duration": 0.004496,
     "end_time": "2023-04-20T18:11:08.068511",
     "exception": false,
     "start_time": "2023-04-20T18:11:08.064015",
     "status": "completed"
    },
    "tags": []
   },
   "source": [
    "Sau khi huấn luyện, đối tượng `PCA` chứa các hệ số tải trong thuộc tính `components_`. (Thật không may, thuật ngữ trong PCA không thống nhất. Chúng tôi tuân theo quy ước gọi các cột đã biến đổi trong `X_pca` là *thành phần*, mặc dù thông thường chúng không có tên riêng.) Chúng tôi sẽ đóng gói các hệ số tải vào một dataframe."
   ]
  },
  {
   "cell_type": "code",
   "execution_count": 8,
   "id": "3d486136",
   "metadata": {
    "execution": {
     "iopub.execute_input": "2023-04-20T18:11:08.080166Z",
     "iopub.status.busy": "2023-04-20T18:11:08.079196Z",
     "iopub.status.idle": "2023-04-20T18:11:08.092818Z",
     "shell.execute_reply": "2023-04-20T18:11:08.091614Z"
    },
    "papermill": {
     "duration": 0.021879,
     "end_time": "2023-04-20T18:11:08.095030",
     "exception": false,
     "start_time": "2023-04-20T18:11:08.073151",
     "status": "completed"
    },
    "tags": []
   },
   "outputs": [
    {
     "data": {
      "text/html": [
       "<div>\n",
       "<style scoped>\n",
       "    .dataframe tbody tr th:only-of-type {\n",
       "        vertical-align: middle;\n",
       "    }\n",
       "\n",
       "    .dataframe tbody tr th {\n",
       "        vertical-align: top;\n",
       "    }\n",
       "\n",
       "    .dataframe thead th {\n",
       "        text-align: right;\n",
       "    }\n",
       "</style>\n",
       "<table border=\"1\" class=\"dataframe\">\n",
       "  <thead>\n",
       "    <tr style=\"text-align: right;\">\n",
       "      <th></th>\n",
       "      <th>PC1</th>\n",
       "      <th>PC2</th>\n",
       "      <th>PC3</th>\n",
       "      <th>PC4</th>\n",
       "    </tr>\n",
       "  </thead>\n",
       "  <tbody>\n",
       "    <tr>\n",
       "      <th>highway_mpg</th>\n",
       "      <td>-0.492347</td>\n",
       "      <td>0.770892</td>\n",
       "      <td>0.070142</td>\n",
       "      <td>-0.397996</td>\n",
       "    </tr>\n",
       "    <tr>\n",
       "      <th>engine_size</th>\n",
       "      <td>0.503859</td>\n",
       "      <td>0.626709</td>\n",
       "      <td>0.019960</td>\n",
       "      <td>0.594107</td>\n",
       "    </tr>\n",
       "    <tr>\n",
       "      <th>horsepower</th>\n",
       "      <td>0.500448</td>\n",
       "      <td>0.013788</td>\n",
       "      <td>0.731093</td>\n",
       "      <td>-0.463534</td>\n",
       "    </tr>\n",
       "    <tr>\n",
       "      <th>curb_weight</th>\n",
       "      <td>0.503262</td>\n",
       "      <td>0.113008</td>\n",
       "      <td>-0.678369</td>\n",
       "      <td>-0.523232</td>\n",
       "    </tr>\n",
       "  </tbody>\n",
       "</table>\n",
       "</div>"
      ],
      "text/plain": [
       "                  PC1       PC2       PC3       PC4\n",
       "highway_mpg -0.492347  0.770892  0.070142 -0.397996\n",
       "engine_size  0.503859  0.626709  0.019960  0.594107\n",
       "horsepower   0.500448  0.013788  0.731093 -0.463534\n",
       "curb_weight  0.503262  0.113008 -0.678369 -0.523232"
      ]
     },
     "execution_count": 8,
     "metadata": {},
     "output_type": "execute_result"
    }
   ],
   "source": [
    "loadings = pd.DataFrame(\n",
    "    pca.components_.T,  # transpose the matrix of loadings\n",
    "    columns=component_names,  # so the columns are the principal components\n",
    "    index=X.columns,  # and the rows are the original features\n",
    ")\n",
    "loadings"
   ]
  },
  {
   "cell_type": "markdown",
   "id": "597ee685",
   "metadata": {
    "papermill": {
     "duration": 0.004647,
     "end_time": "2023-04-20T18:11:08.104623",
     "exception": false,
     "start_time": "2023-04-20T18:11:08.099976",
     "status": "completed"
    },
    "tags": []
   },
   "source": [
    "Nhớ rằng dấu và độ lớn của hệ số tải của một thành phần cho chúng ta biết loại biến thiên mà nó nắm bắt được. Thành phần đầu tiên (`PC1`) cho thấy sự tương phản giữa các phương tiện lớn, mạnh mẽ nhưng tiêu hao nhiên liệu nhiều, và các phương tiện nhỏ hơn, tiết kiệm nhiên liệu hơn. Chúng ta có thể gọi đây là trục \"Sang trọng/Kinh tế\" (*Luxury/Economy*). Hình minh họa tiếp theo cho thấy rằng bốn đặc trưng được chọn của chúng ta chủ yếu biến thiên theo trục Sang trọng/Kinh tế."
   ]
  },
  {
   "cell_type": "code",
   "execution_count": 9,
   "id": "7bc20422",
   "metadata": {
    "execution": {
     "iopub.execute_input": "2023-04-20T18:11:08.116442Z",
     "iopub.status.busy": "2023-04-20T18:11:08.115576Z",
     "iopub.status.idle": "2023-04-20T18:11:08.580668Z",
     "shell.execute_reply": "2023-04-20T18:11:08.579379Z"
    },
    "papermill": {
     "duration": 0.474127,
     "end_time": "2023-04-20T18:11:08.583519",
     "exception": false,
     "start_time": "2023-04-20T18:11:08.109392",
     "status": "completed"
    },
    "tags": []
   },
   "outputs": [
    {
     "data": {
      "image/png": "[encoded data removed]",
      "text/plain": [
       "<Figure size 800x480 with 2 Axes>"
      ]
     },
     "metadata": {},
     "output_type": "display_data"
    }
   ],
   "source": [
    "# Look at explained variance\n",
    "plot_variance(pca);"
   ]
  },
  {
   "cell_type": "markdown",
   "id": "e8ca095a",
   "metadata": {
    "papermill": {
     "duration": 0.005327,
     "end_time": "2023-04-20T18:11:08.594444",
     "exception": false,
     "start_time": "2023-04-20T18:11:08.589117",
     "status": "completed"
    },
    "tags": []
   },
   "source": [
    "Hãy cùng xem xét điểm MI của các thành phần. Không có gì ngạc nhiên khi `PC1` chứa nhiều thông tin quan trọng, mặc dù các thành phần còn lại, dù có phương sai nhỏ, vẫn có mối quan hệ đáng kể với `price`. Việc phân tích các thành phần này có thể hữu ích để tìm ra những mối quan hệ chưa được phản ánh bởi trục chính Sang trọng/Kinh tế."
   ]
  },
  {
   "cell_type": "code",
   "execution_count": 10,
   "id": "35f25247",
   "metadata": {
    "execution": {
     "iopub.execute_input": "2023-04-20T18:11:08.607981Z",
     "iopub.status.busy": "2023-04-20T18:11:08.607113Z",
     "iopub.status.idle": "2023-04-20T18:11:08.629098Z",
     "shell.execute_reply": "2023-04-20T18:11:08.627859Z"
    },
    "papermill": {
     "duration": 0.031662,
     "end_time": "2023-04-20T18:11:08.631618",
     "exception": false,
     "start_time": "2023-04-20T18:11:08.599956",
     "status": "completed"
    },
    "tags": []
   },
   "outputs": [
    {
     "data": {
      "text/plain": [
       "PC1    1.011954\n",
       "PC2    0.378706\n",
       "PC3    0.306287\n",
       "PC4    0.204842\n",
       "Name: MI Scores, dtype: float64"
      ]
     },
     "execution_count": 10,
     "metadata": {},
     "output_type": "execute_result"
    }
   ],
   "source": [
    "mi_scores = make_mi_scores(X_pca, y, discrete_features=False)\n",
    "mi_scores"
   ]
  },
  {
   "cell_type": "markdown",
   "id": "087b0b4a",
   "metadata": {
    "papermill": {
     "duration": 0.005859,
     "end_time": "2023-04-20T18:11:08.646337",
     "exception": false,
     "start_time": "2023-04-20T18:11:08.640478",
     "status": "completed"
    },
    "tags": []
   },
   "source": [
    "Thành phần thứ ba thể hiện sự tương phản giữa `horsepower` và `curb_weight` — dường như phản ánh sự khác biệt giữa xe thể thao và xe wagon."
   ]
  },
  {
   "cell_type": "code",
   "execution_count": 11,
   "id": "8472daef",
   "metadata": {
    "execution": {
     "iopub.execute_input": "2023-04-20T18:11:08.661554Z",
     "iopub.status.busy": "2023-04-20T18:11:08.660858Z",
     "iopub.status.idle": "2023-04-20T18:11:08.677888Z",
     "shell.execute_reply": "2023-04-20T18:11:08.676585Z"
    },
    "papermill": {
     "duration": 0.026844,
     "end_time": "2023-04-20T18:11:08.680283",
     "exception": false,
     "start_time": "2023-04-20T18:11:08.653439",
     "status": "completed"
    },
    "tags": []
   },
   "outputs": [
    {
     "data": {
      "text/html": [
       "<div>\n",
       "<style scoped>\n",
       "    .dataframe tbody tr th:only-of-type {\n",
       "        vertical-align: middle;\n",
       "    }\n",
       "\n",
       "    .dataframe tbody tr th {\n",
       "        vertical-align: top;\n",
       "    }\n",
       "\n",
       "    .dataframe thead th {\n",
       "        text-align: right;\n",
       "    }\n",
       "</style>\n",
       "<table border=\"1\" class=\"dataframe\">\n",
       "  <thead>\n",
       "    <tr style=\"text-align: right;\">\n",
       "      <th></th>\n",
       "      <th>make</th>\n",
       "      <th>body_style</th>\n",
       "      <th>horsepower</th>\n",
       "      <th>curb_weight</th>\n",
       "    </tr>\n",
       "  </thead>\n",
       "  <tbody>\n",
       "    <tr>\n",
       "      <th>118</th>\n",
       "      <td>porsche</td>\n",
       "      <td>hardtop</td>\n",
       "      <td>207</td>\n",
       "      <td>2756</td>\n",
       "    </tr>\n",
       "    <tr>\n",
       "      <th>117</th>\n",
       "      <td>porsche</td>\n",
       "      <td>hardtop</td>\n",
       "      <td>207</td>\n",
       "      <td>2756</td>\n",
       "    </tr>\n",
       "    <tr>\n",
       "      <th>119</th>\n",
       "      <td>porsche</td>\n",
       "      <td>convertible</td>\n",
       "      <td>207</td>\n",
       "      <td>2800</td>\n",
       "    </tr>\n",
       "    <tr>\n",
       "      <th>45</th>\n",
       "      <td>jaguar</td>\n",
       "      <td>sedan</td>\n",
       "      <td>262</td>\n",
       "      <td>3950</td>\n",
       "    </tr>\n",
       "    <tr>\n",
       "      <th>96</th>\n",
       "      <td>nissan</td>\n",
       "      <td>hatchback</td>\n",
       "      <td>200</td>\n",
       "      <td>3139</td>\n",
       "    </tr>\n",
       "    <tr>\n",
       "      <th>...</th>\n",
       "      <td>...</td>\n",
       "      <td>...</td>\n",
       "      <td>...</td>\n",
       "      <td>...</td>\n",
       "    </tr>\n",
       "    <tr>\n",
       "      <th>59</th>\n",
       "      <td>mercedes-benz</td>\n",
       "      <td>wagon</td>\n",
       "      <td>123</td>\n",
       "      <td>3750</td>\n",
       "    </tr>\n",
       "    <tr>\n",
       "      <th>61</th>\n",
       "      <td>mercedes-benz</td>\n",
       "      <td>sedan</td>\n",
       "      <td>123</td>\n",
       "      <td>3770</td>\n",
       "    </tr>\n",
       "    <tr>\n",
       "      <th>101</th>\n",
       "      <td>peugot</td>\n",
       "      <td>wagon</td>\n",
       "      <td>95</td>\n",
       "      <td>3430</td>\n",
       "    </tr>\n",
       "    <tr>\n",
       "      <th>105</th>\n",
       "      <td>peugot</td>\n",
       "      <td>wagon</td>\n",
       "      <td>95</td>\n",
       "      <td>3485</td>\n",
       "    </tr>\n",
       "    <tr>\n",
       "      <th>143</th>\n",
       "      <td>toyota</td>\n",
       "      <td>wagon</td>\n",
       "      <td>62</td>\n",
       "      <td>3110</td>\n",
       "    </tr>\n",
       "  </tbody>\n",
       "</table>\n",
       "<p>193 rows × 4 columns</p>\n",
       "</div>"
      ],
      "text/plain": [
       "              make   body_style  horsepower  curb_weight\n",
       "118        porsche      hardtop         207         2756\n",
       "117        porsche      hardtop         207         2756\n",
       "119        porsche  convertible         207         2800\n",
       "45          jaguar        sedan         262         3950\n",
       "96          nissan    hatchback         200         3139\n",
       "..             ...          ...         ...          ...\n",
       "59   mercedes-benz        wagon         123         3750\n",
       "61   mercedes-benz        sedan         123         3770\n",
       "101         peugot        wagon          95         3430\n",
       "105         peugot        wagon          95         3485\n",
       "143         toyota        wagon          62         3110\n",
       "\n",
       "[193 rows x 4 columns]"
      ]
     },
     "execution_count": 11,
     "metadata": {},
     "output_type": "execute_result"
    }
   ],
   "source": [
    "# Show dataframe sorted by PC3\n",
    "idx = X_pca[\"PC3\"].sort_values(ascending=False).index\n",
    "cols = [\"make\", \"body_style\", \"horsepower\", \"curb_weight\"]\n",
    "df.loc[idx, cols]"
   ]
  },
  {
   "cell_type": "markdown",
   "id": "c5370c5e",
   "metadata": {
    "papermill": {
     "duration": 0.006081,
     "end_time": "2023-04-20T18:11:08.692649",
     "exception": false,
     "start_time": "2023-04-20T18:11:08.686568",
     "status": "completed"
    },
    "tags": []
   },
   "source": [
    "Để thể hiện sự tương phản này, chúng ta sẽ tạo một đặc trưng tỷ lệ mới:"
   ]
  },
  {
   "cell_type": "code",
   "execution_count": 14,
   "id": "e7cd52c6",
   "metadata": {
    "execution": {
     "iopub.execute_input": "2023-04-20T18:11:08.707436Z",
     "iopub.status.busy": "2023-04-20T18:11:08.706705Z",
     "iopub.status.idle": "2023-04-20T18:11:09.236306Z",
     "shell.execute_reply": "2023-04-20T18:11:09.234975Z"
    },
    "papermill": {
     "duration": 0.540323,
     "end_time": "2023-04-20T18:11:09.239266",
     "exception": false,
     "start_time": "2023-04-20T18:11:08.698943",
     "status": "completed"
    },
    "tags": []
   },
   "outputs": [
    {
     "data": {
      "image/png": "[encoded data removed]",
      "text/plain": [
       "<Figure size 640x480 with 1 Axes>"
      ]
     },
     "metadata": {},
     "output_type": "display_data"
    }
   ],
   "source": [
    "df[\"sports_or_wagon\"] = X.curb_weight / X.horsepower\n",
    "sns.regplot(x=\"sports_or_wagon\", y='price', data=df, order=2);\n",
    "plt.grid(alpha=0.3)"
   ]
  },
  {
   "cell_type": "markdown",
   "id": "8ab0ef6e",
   "metadata": {
    "papermill": {
     "duration": 0.007006,
     "end_time": "2023-04-20T18:11:09.254089",
     "exception": false,
     "start_time": "2023-04-20T18:11:09.247083",
     "status": "completed"
    },
    "tags": []
   },
   "source": [
    "# Đến lượt bạn #\n",
    "\n",
    "[**Cải thiện tập hợp đặc trưng của bạn**](https://www.kaggle.com/kernels/fork/14393921) bằng cách phân tích sự biến thiên trong *Ames Housing* và sử dụng các thành phần chính để phát hiện điểm ngoại lai."
   ]
  },
  {
   "cell_type": "markdown",
   "id": "1a9641eb",
   "metadata": {
    "papermill": {
     "duration": 0.006923,
     "end_time": "2023-04-20T18:11:09.268549",
     "exception": false,
     "start_time": "2023-04-20T18:11:09.261626",
     "status": "completed"
    },
    "tags": []
   },
   "source": [
    "---\n",
    "\n",
    "\n",
    "\n",
    "\n",
    "*Have questions or comments? Visit the [course discussion forum](https://www.kaggle.com/learn/feature-engineering/discussion) to chat with other learners.*"
   ]
  }
 ],
 "metadata": {
  "jupytext": {
   "cell_metadata_filter": "-all",
   "formats": "ipynb"
  },
  "kernelspec": {
   "display_name": "Python 3",
   "language": "python",
   "name": "python3"
  },
  "language_info": {
   "codemirror_mode": {
    "name": "ipython",
    "version": 3
   },
   "file_extension": ".py",
   "mimetype": "text/x-python",
   "name": "python",
   "nbconvert_exporter": "python",
   "pygments_lexer": "ipython3",
   "version": "3.13.2"
  },
  "papermill": {
   "default_parameters": {},
   "duration": 14.609608,
   "end_time": "2023-04-20T18:11:10.098566",
   "environment_variables": {},
   "exception": null,
   "input_path": "__notebook__.ipynb",
   "output_path": "__notebook__.ipynb",
   "parameters": {},
   "start_time": "2023-04-20T18:10:55.488958",
   "version": "2.4.0"
  }
 },
 "nbformat": 4,
 "nbformat_minor": 5
}
